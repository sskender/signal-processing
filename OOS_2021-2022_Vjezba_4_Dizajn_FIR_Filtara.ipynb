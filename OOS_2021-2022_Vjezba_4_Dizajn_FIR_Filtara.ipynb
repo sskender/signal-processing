{
  "nbformat": 4,
  "nbformat_minor": 0,
  "metadata": {
    "colab": {
      "name": "OOS_2021-2022_Vježba_4_Dizajn_FIR_Filtara.ipynb",
      "provenance": [],
      "collapsed_sections": [
        "WlRpFNuqEqTM",
        "B_rW2yC3Eqf8",
        "6qQ-w732Bahl",
        "t4Rim6S5uJVw",
        "2t-7ytZWuJoM",
        "FZz6GTiatpev",
        "9oeDJGQKtIQQ"
      ]
    },
    "kernelspec": {
      "name": "python3",
      "display_name": "Python 3"
    }
  },
  "cells": [
    {
      "cell_type": "markdown",
      "metadata": {
        "id": "17gpYVH0HG2r"
      },
      "source": [
        "Sveučilište u Zagrebu<br/>\n",
        "Fakultet elektrotehnike i računarstva<br/>\n",
        "Zavod za elektroničke sustave i obradbu informacija\n",
        "\n",
        "Akademska školska godina 2021./2022.\n",
        "\n",
        "**4. vježba: Dizajn FIR filtara**\n",
        "\n",
        "*Osnove obradbe signala* (183447, 223374)\n",
        "\n",
        "Autor: Tomislav Petković\n",
        "\n",
        "Prijevod s engleskog jezika: Domagoj Zoraja\n",
        "\n",
        "Datum: 2021-12-15\n",
        "\n",
        "Molimo vas da komentare na ove upute (ispravke, primjedbe, prijedloge itd.) šaljete e-poštom na tomislav.petkovic.jr@fer.hr."
      ]
    },
    {
      "cell_type": "markdown",
      "metadata": {
        "id": "NwzB7D8j-dVO"
      },
      "source": [
        "© Sveučilište u Zagrebu Fakultet elektrotehnike i računarstva, 2021.\n",
        "\n",
        "Umnažanje i distribucija ovih uputa je dozvoljena samo ako svaka kopija sadrži gorenavedenu informaciju o autorskim pravima te ovu dozvolu o umnažanju."
      ]
    },
    {
      "cell_type": "markdown",
      "metadata": {
        "id": "nbp4R_gNpLKV"
      },
      "source": [
        "# Uvod\n",
        "\n",
        "Upute za četvrtu laboratorijsku vježbu iz predmeta *Osnove obradbe signala* su pripremljene u obliku <a href=\"https://jupyter.org/\">Jupyterske</a> bilježnice.\n",
        "\n",
        "Jupyterska bilježnica koristi <a href=\"https://ipython.org/\">IPython</a> koji je interaktivni interpreter za Pyhton. Jupytersku bilježnicu možete pokrenuti lokalno, no isto tako je možete pokrenuti udaljeno na Googleovom Colaboratoryu.\n",
        "\n",
        "Svi zadaci u ovoj bilježnici su dovoljno jednostavni tako da se mogu bez problema riješiti korištenjem <a href=\"https://colab.research.google.com\">Googleovog Colaboratorya</a> (skraćeno Colab).\n",
        "\n",
        "Svaki softver je samo alat. Sukaldno tome, osim Pythona slobodno smijete koristiti i druge alate kao što su <a href=\"https://www.mathworks.com/products/matlab.html\">Matlab</a>, <a href=\"https://www.gnu.org/software/octave/index\">GNU Octave</a> i <a href=\"https://www.scilab.org/\">Scilab</a> kako bi riješili zadane zadatke. Napominjemo da korištenje drugih alata može značiti da vaš izvještaj s vježbe ne možete predati popunjavanjem ove bilježnice, odnosno da morate pripremiti novi pisani izvještaj. Dodatno, nastavnici vam mogu pomoći oko izrade vježbe samo ako koristite Colab i/ili Matlab."
      ]
    },
    {
      "cell_type": "markdown",
      "metadata": {
        "id": "WlRpFNuqEqTM"
      },
      "source": [
        "## Upute za predaju izvještaja s vježbe\n",
        "\n",
        "Ako rješavate vježbu u Pythonu korištenjem Colaba onda jednostavn upišite vaše odgovore u prazna polja, i to programski kod u polja za kod te odgovore na postavljena pitanja u tekstualna polja.\n",
        "\n",
        "Prazna polja za programski kod sadrže zadani komentar `# Upišite vaše rješenje`, dok tekstualna polja u koja morate upisati odgovor sadrže masni tekst napisan velikim tiskanim slovima **OVDJE UPIŠITE VAŠ ODGOVOR**.\n",
        "\n",
        "Jednom kada su svi zadaci riješeni ispunjenu bilježnicu pohranite u datoteku s imenom `JMBAG_IME_PREZIME.ipynb` i predajte je e-poštom na tomislav.petkovic.jr@fer.hr uz `[OOS] 4. vježba` kao naslov poruke.\n",
        "\n",
        "Predane bilježnice će prvo biti automatski re-evaluirane što odgovara naredbi  *Restart and run all* u Colabu. Prema tome, svakako prije predaje vaše bilježnice pokrenite tu naredbu i provjerite ispravnost vaših rješenja.\n",
        "\n",
        "Ako ste vježbu izradili korištenjem nekog drugog softvera koji nije kompatibilan s Jupyterskom bilježnicom onda morate pripremiti standardni pisani izvještaj s laboratorijske vježbe."
      ]
    },
    {
      "cell_type": "markdown",
      "metadata": {
        "id": "B_rW2yC3Eqf8"
      },
      "source": [
        "## Podaci o studentu\n",
        "\n",
        "Molimo vas da prije ispunjavanja ostatka bilježnice dvaput kliknete na ovaj tekst te zatim upište vaše podatke:\n",
        "\n",
        "Ime: **IME i PREZIME**\n",
        "\n",
        "Matični broj (JMBAG): **0036XXXX**"
      ]
    },
    {
      "cell_type": "markdown",
      "metadata": {
        "id": "A_bBYIVb7huY"
      },
      "source": [
        "## Uvoz potrebnih funkcija\n",
        "\n",
        "Radi smanjivanja razlika između programskog koda u Pythonu i u Matlabu u ovoj bilježnici ćemo namjerno uvesti sve potrebne funkcije iz <a href=\"https://www.scipy.org/\">SciPy</a>-ja, <a href=\"https://numpy.org/\">NumPy</a>-ja i <a href=\"https://matplotlib.org/\">Matplotlib</a>-a izravno u globalni imenik tako da možemo jednostavno pisati `fft` umjesto punog imena `scipy.fft.fft`.\n",
        "\n",
        "Svakako imajte u vidu da je ovakav pristup uvjetno prihvatljiv radi pojednostavljenja koda za laboratorijske vježbe jer su rizici kolizije i neočekivanih nuspojava minimalni. Svakako ga je najbolje izbjegavati u produkcijskom kodu.\n",
        "\n",
        "Ako preferirate korištenje imenika i punih imena funkcija onda slobodno izmijenite naredbe za uvoz funkcija tako da sve uvezene funkcije ostanu strogo razdvojene."
      ]
    },
    {
      "cell_type": "code",
      "metadata": {
        "id": "PpDMuZ7on9Nh"
      },
      "source": [
        "# Uvezi potrebne funkcije u globalni imenik\n",
        "from scipy.signal import *\n",
        "from scipy.fft import *\n",
        "from numpy import *\n",
        "from matplotlib.pyplot import *"
      ],
      "execution_count": null,
      "outputs": []
    },
    {
      "cell_type": "markdown",
      "metadata": {
        "id": "gxYnHRdLlgFH"
      },
      "source": [
        "# 1. Dizajn FIR filtara\n",
        "\n",
        "U ovoj laboratorijskoj vježbi istražujemo kako uz pomoć računala možemo odrediti koeficijente prijenosne funkcije digitalnog filtra koje zadovoljavaju zadanu filtarsku specifikaciju. Tu zadaću pronalaženja filtarskih koeficijenata nazivamo računalnom podržani dizajn filtara. \n",
        "\n",
        "Glavni problem kod dizajniranja filtra jest određivanje koeficijenata prijenosne funkcije\n",
        "\n",
        "$$H(z)={B(z)\\over A(z)}={\\strut\\displaystyle\\sum_{j=0}^{M}b_jz^{-j}\\over\\strut\\displaystyle1+\\sum_{i=1}^{N}a_iz^{-i}}={b_0+b_1z^{-1}+b_2z^{-2}+\\cdots+b_{M}z^{-M}\\over1+a_1z^{-1}+a_2z^{-2}+\\cdots+a_Nz^{-N}}$$\n",
        "\n",
        "takvih da frekvencijska karakteristika filtra $H(e^{j\\omega})$ dobro aproksimira neku željenu frekvecnijsku karakteristiku $D(\\omega)$.\n",
        "\n",
        "Dodatno ograničenje kojeg prijenosna funkcija mora zadovoljiti jest da se njeni svi polovi $p_k$, $k=1,\\ldots,N$ (koji su nultočke polinoma $A(z)$ u nazivniku) moraju nalaziti unutar jednične kružnice, dakle mora vrijediti $|p_k|<1, k=1,\\ldots,N$ odnosno filtar mora biti stabilan.\n",
        "\n",
        "Drugim riječima rečeno, prijenosna funkcija $H(z)$ digitalnog filtra kojeg dizajniramo nije proizvoljna funkcija; ona mora biti **ostvariva** što znači da $H(z)$ mora opisivati linearan i vremenski nepromjenjiv (LTI) sustav koji je i **kauzalan** i **stabilan**.\n",
        "\n",
        "Kauzalnost sustava je osigurana odabranim oblikom prijenosne funkcije $H(z)$ gdje su svi eksponenti varijable $z$ negativni. Prisjetite se da ne-pozitivne potencije od $z$ odgovaraju trenutnim ili zakašnjelim uzorcima ulaznog ili izlaznog signala u diferencijskoj jednadžbi koja opisuju filtar, pa je to nužni uvjet kojeg moramo ispuniti za kauzalnost.\n",
        "\n",
        "Uvjet za stabilnost sustava se nažalost ne može izravno iskazati preko koeficijenata prijenosne funckije $a_i$ jer se nultočke polinoma četvrtog ili višeg reda/stupnja ne mogu izraziti u radikalima. Prema tome stabilnost sustava se mora ili provjeravati neizravno ili se prijenosna funkcija mora iskazati preko svojih nula, polova i pojačanja (engl. *zero-pole-gain*, još se koristi i kratica ZPK gdje K označava konstantu koja definira pojačanje).\n",
        "\n",
        "U ovoj laboratorijskoj vježbi proučavamo kako dizajnirati FIR filtre za koje je polinom $A(z)$ u nazivniku trivijalan, odnosno vrijedi $A(z)=1$. U tom slučaj prijenosna funckija filtra $H(z)$ postaje\n",
        "\n",
        "$$H(z)=B(z)=\\sum_{j=0}^{M}b_jz^{-j}=b_0+b_1z^{-1}+b_2z^{-2}+\\cdots+b_{M}z^{-M}.$$\n",
        "\n",
        "Prijenosne funkcije takvog oblika nemaju polove koji nisu trivijalni što čini pripradne filtre uvijek **stabilnima** i što značajno olakšava dizajn filtra. Trivijalni polovi su polovi koji se nalaze u ishodištu ($z=0$) i koji ne utječu niti na stabilnost niti na amplitudno-frekvencijsku karakteristiku.\n",
        "\n",
        "Primjenom inverzne Z-transformacije na prijenosnu funkciju $H(z)$ dobivamo impulsni odziv filtra $h[n]$. U slučaju FIR filtara taj postupak je trivijalan. Izraz $H(z)=\\sum_{j=0}^{M}b_jz^{-j}$ odgovara upravo definicijskom izrazu za Z transformaciju pa odmah dobivamo impulsni odziv \n",
        "\n",
        "$$h[n]=\\sum_{j=0}^{M}b_j\\delta[n-j]=\\bigl\\{\\underline{b_0},b_1,b_2,\\ldots,b_M\\bigr\\}.$$\n",
        "\n",
        "Dobiveni $h[n]$ je **konačnog** trajanja i to je razlog zašto sve takve filtre nazivamo filtrima s konačnim impulsnim odzivom ili FIR filtrima prema engl. **F**inite **I**mpulse **R**esponse.\n",
        "\n",
        "Alternativni naziv za FIR filtar je MA filtar, od engl. **M**oving **A**verage, jer se postupak filtracije efektivno svodi na težinsko usrednjavanje zadnjih $M$ uzoraka ulaznog signala."
      ]
    },
    {
      "cell_type": "markdown",
      "metadata": {
        "id": "6qQ-w732Bahl"
      },
      "source": [
        "## 1.1. Zadaća dizajniranja FIR filtra\n",
        "\n",
        "U zadaći dizajniranja digitalnog filtra gotovo uvijek započinjemo s zadanom **željenom frekvencijskom karakteristikom** $D(\\omega)$.\n",
        "\n",
        "Zadaća dizajniranja FIR filtra se svodi na određivanje koeficijenata $b_j$, $j=1,\\ldots,M$ prijenosne funckije $H(z)$ takvih da frekvencijska karakteristika LTI sustava\n",
        "\n",
        "$$H(e^{j\\omega})=\\sum_{m=0}^{M}b_me^{-jm\\omega}=b_0+b_1e^{-j\\omega}+b_2e^{-2j\\omega}+\\cdots+b_{M}e^{-jM\\omega}$$\n",
        "\n",
        "bude **dovoljno dobra aproksimacija** željene frekvencijske karakteristike $D(\\omega)$.\n",
        "\n",
        "Opisanu zadaću rješavamo uvođenjem funkcije greške (koju još nazivamo i funkcija cijene ili funkcija udaljenosti) koja mjeri kvalitetu našeg rješenja. Uvođenjem funkcije greške zadaću dizajna filtra pretvaramo u klasičan minimizacijski problem. \n",
        "\n",
        "Standradna funkcija greške koja se koristi za dizajniranje filtara jest **p**-norma razlike $D(\\omega)$ i $H(e^{j\\omega})$, odnosno želimo minimizirati izraz\n",
        "\n",
        "$$E=\\bigl|\\bigl|D(\\omega)-H(e^{j\\omega})\\bigr|\\bigr|_p=\\sqrt[p]{\\int_{-\\pi}^{+\\pi}\\bigl|D(\\omega)-H(e^{j\\omega})\\bigr|^p\\,d\\omega}.$$\n",
        "\n",
        "U navedenom izrazu za grešku $E$ poznati parametri su željena frekvencijska karakteristika $D(\\omega)$ i parametar $p$ koji određuje normu. Nepoznati parametri su red filtra $M$ i koeficijenti $b_i$, $i=1,\\ldots,M$, i njih moramo odrediti.\n",
        "\n",
        "Razmotrimo prvo red filtra $M$. Primijetite da bi povećanje reda filtra $M$ uvijek trebalo uzrokovati smanjenje greške $E$, odnosno viši red $M$ daje manju grešku $E$. Ako uzmemo $M\\to+\\infty$ tada očekivano dobivamo najbolju moguću aproksimaciju. Međutim, red filtra $M$ također određuje broj računskih operacija (množenja i zbrajanja) koje su potrebne za računanje jednog uzorka izlaznog signala. Prema tome želimo što manji red filtra $M$ kako bi smanjili ukupni trošak računskih operacija, no istodobno želimo i što je moguće manju vrijednost greške $E$. Drugim riječima rečeno tražimo najmanji red filtra $M$ za kojeg je greška $E$ unutar dozvoljenih granica.\n",
        "\n",
        "U praksi je zadana željena frekvencijska karakteristika $D(\\omega)$ proširna  specificiranjem prihvatljivih granica ostvarene aproksimacijske greške. Željena frekvencijska karakterisitka $D(\\omega)$ zajedno s prihvatljivim granicama aproksimacijske greške predstavlja **filtarsku specifikaciju**.\n",
        "\n",
        "Uz zadanu filtarsku specifikaciju zadaća dizajna filtra se uobičajeno rješava u sljedećim koracima:\n",
        "\n",
        "1. procjeni (ili slučajno odaberi) početni reda filtra $M$;\n",
        "2. za zadani red filtra $M$ numerički riješi minimizacijski problem i odredi vrijednosti koeficijenta $b_i$;\n",
        "3. provjeri zadovoljava li dobiveni $H(e^{j\\omega})$ zadanu specifikaciju filtra; i\n",
        "4. ako je filtarska specifikacija zadovoljena onda je filtar uspješno dizajniran, a u suprotnom povećaj red fltra $M$ i vrati se na drugi korak.\n",
        "\n",
        "Problem numeričke minimizacije funkcije greške iz drugog koraka za odabrani $p$ je rješiv u slučajevima kada je $p=2$ (analitičko rješenje u zatvorenoj formi) i kada je $p\\to+\\infty$ (brzo-konvergirajuće iterativno rješenje).\n",
        "\n",
        "Za $p=2$ govorimo o dizajnu filtra optimalnog u smislu **kvadratne pogreške** ili u smislu **najmanjih kvadrata** (engl. *least-squares design*, kratica LS).\n",
        "\n",
        "Za $p\\to+\\infty$ govorimo o dizajnu filtra optimalnog u smislu najvećeg odstupanja ili o minimaks filtru (engl. *minimax design*).\n"
      ]
    },
    {
      "cell_type": "markdown",
      "metadata": {
        "id": "YpAWYGSmcJD-"
      },
      "source": [
        "## 1.2. Dizajniranje FIR filtara linearne faze\n",
        "\n",
        "Zadana željena frekvencijska karakterisitka $D(\\omega)$ može se rastaviti na amplitudni dio i na fazni dio.\n",
        "\n",
        "Amplitudni dio frekvencijske karakteristike $D(\\omega)$ naziva se **amplitudno-frekvencijska karakterisitka**,\n",
        "\n",
        "$$A_D(\\omega)=\\bigl|D(\\omega)\\bigr|,$$\n",
        "\n",
        "dok se fazni dio frekvencijske karakteristike $D(\\omega)$ naziva **fazno-frekvencijska karakteristika**,\n",
        "\n",
        "$$\\phi_D(\\omega)=\\angle D(\\omega).$$\n",
        "\n",
        "Kod filtriranja često želimo mijenjati samo amplitudu pojedinih komponenti signala bez mijenjanja njihove faze. Taj zahtjev da filtar utječe samo na amplitudu postavlja ogrnaičenja na željenu fazno-frekvencijsku karakteristiku. Preciznije, željena fazna karakteristika $\\angle D(\\omega)$ mora biti afina funkcija od $\\omega$ (pravac), dakle mora vrijediti\n",
        "\n",
        "$$\\angle D(\\omega)=a+b\\omega,$$\n",
        "\n",
        "gdje su $a$ i $b$ realni brojevi.\n",
        "\n",
        "LTI sustave ili filtre čija fazna karakteristika je opisana gore navedenom jednadžbom nazivamo sustavima s **generaliziranom linearnom fazom**. Glavna prednost takvih filtara je da ne unose **fazna izobličenja**.\n",
        "\n",
        "Možemo pokazati da se taj uvjet **generalizirane linearne faze** koji je iskazan u frekvencijskoj domeni transformira u uvjet **simetričnost** ili **antisimetričnosti** impulsnog odziva u vremenskoj domeni. Prema tome impulsni odziv svakog filtra generalizirane linearne faze mora imati točku oko koje je ili simetričan ili antisimetričan.\n",
        "\n",
        "Impulsni odziv FIR filtra reda $M$ je\n",
        "\n",
        "$$h[n]=\\sum_{j=0}^{M}b_j\\delta[n-j]=\\bigl\\{\\underline{b_0},b_1,b_2,\\ldots,b_M\\bigr\\}$$\n",
        "\n",
        "i ima konačno trajanje. Kako je impulsni odziv konačan jednostavno je napisati koja ograničenja moraju zadovoljiti koeficijenti $b_j$ ako želimo da impulsni odziv bude ili simetričan ili antisimetričan. Za simetričan impulsni odziv mora biti\n",
        "\n",
        "$$h[n]=h[M-n]$$\n",
        "\n",
        "ili\n",
        "\n",
        "$$b_n=b_{M-n},$$\n",
        "\n",
        "a za antisimetričan impulsni odziv mora biti\n",
        " \n",
        "$$h[n]=-h[M-n]$$\n",
        "\n",
        "ili\n",
        "\n",
        "$$b_n=-b_{M-n},$$ \n",
        "\n",
        "i to za sve $0\\le n\\le M$. Ovisno o parnosti reda filtra $M$ centar simetrije ili antisimetrije impulsnog odziva se nalazi ili točno na mjestu središnjeg uzorka ili između dva susjedna uzorka oko središta impulsnog odziva.\n",
        "\n",
        "Obzirom na izbor simetrije/antisimetrije i izbor parnosti reda filtra (koji odgovoara izboru položaj centra simetrije/antisimetrije na uzorak/između uzoraka) postoje ukupno četiri tipa FIR filtara generalizirane linearne faze. To su:\n",
        "\n",
        "1. parni red filtra sa simetričnim impulsnim odzivom ili tip I,\n",
        "2. neparni red filtra sa simetričnim impulsnim odzivom ili tip II,\n",
        "3. parni red filtra sa antisimetričnim impuslnim odzivom ili tip III, i\n",
        "4. neparni red filtra sa antisimetričnim impulsnim odzivom ili tip IV."
      ]
    },
    {
      "cell_type": "markdown",
      "metadata": {
        "id": "t4Rim6S5uJVw"
      },
      "source": [
        "### 1.2.1. Filtar tipa I\n",
        "\n",
        "Filtar tipa I je parnog reda $M$ i ima točku simetrije u $M/2$ što je točno na mjestu središnjeg uzorka impulsnog odziva.\n",
        "\n",
        "Impulsni odziv filtra sadrži točno $L=M+1$ uzoraka, odnosno broj uzoraka impulsnog odziva je neparan.\n",
        "\n",
        "**Primijetite da su parnosti reda filtra $M$ i duljine impulsnog odziva $L$ uvijek različite.**\n",
        "\n",
        "Impulsni odziv filtra tipa I za $0\\le n\\le M$ zadovoljava uvjet simetrije\n",
        "\n",
        "$$h[n]=h[M-n].$$\n",
        "\n",
        "\n",
        "&nbsp;\n",
        "\n",
        "Jedan primjer impulsnog odziva filtra šestog reda ($M=6$) jest:\n",
        "\n",
        "\\begin{align}\n",
        "h[n]=\\sum_{j=0}^{6}b_j\\delta[n-j]\n",
        "&=\\bigl\\{\\underline{b_0},b_1,b_2,b_3,b_4,b_5,b_6\\bigr\\}\\\\\n",
        "&=\\bigl\\{\\underline{b_0},b_1,b_2,b_3,b_2,b_1,b_0\\bigr\\}.\n",
        "\\end{align}\n",
        "\n",
        "Prema uvjetu simetrije vrijedi\n",
        "\n",
        "\\begin{align}\n",
        "h[0]&=b_0=b_6=h[6-0]=h[6]\\\\\n",
        "h[1]&=b_1=b_5=h[6-1]=h[5]\\\\\n",
        "h[2]&=b_2=b_4=h[6-2]=h[4]\\\\\n",
        "h[3]&=b_3=b_3=h[6-3]=h[3]\\\\\n",
        "\\end{align}\n",
        "\n",
        "pa je centar simetrije točno na uzorku $b_3$ koji je jednak samom sebi.\n",
        "\n",
        "Frekvencijska karakteristika filtra tipa I je uvijek oblika\n",
        "\n",
        "$$\n",
        "H(e^{j\\omega})=e^{-jM\\omega/2}\\Bigl(h[{\\textstyle {M\\over 2}}]+\\sum_{m=1}^{M/2}2h\\bigl[{\\textstyle {M\\over 2}}-m\\bigr]\\cos(\\omega m)\\Bigr).\n",
        "$$\n",
        "\n",
        "Filtar tipa I jest **univerzalan**, i to u smislu da navedenim kosinusnim redom možemo aproksimirati bilo koju željenu amplitudnu karakteristiku $|D(\\omega)|$ nekog sustava s realnim impulsnim odzivom.\n",
        "\n",
        "Prema tome filtrom tipa I možemo ostvariti sve klasične vrste amplitudno selektivnih filtara, nisko-propusni (NP) filtar, visoko-propusni (VP) filtar, pojasno-propusni (PP) filtar, i pojasnu branu (PB), i zato je on najčešći u praksi."
      ]
    },
    {
      "cell_type": "markdown",
      "metadata": {
        "id": "2t-7ytZWuJoM"
      },
      "source": [
        "### 1.2.2. Filtar tipa II\n",
        "\n",
        "Filtar tipa II je neparnog reda $M$ i ima točku simetrije u $M/2$ što je točno između dva uzorka najbliža središtu impulsnog odziva.\n",
        "\n",
        "Impulsni odziv filtra sadrži točno $L=M+1$ uzoraka, odnosno broj uzoraka impulsnog odziva je paran.\n",
        "\n",
        "Impulsni odziv filtra tipa II za $0\\le n\\le M$ zadovoljava uvjet simetrije\n",
        "\n",
        "$$h[n]=h[M-n].$$\n",
        "\n",
        "&nbsp;\n",
        "\n",
        "Jedan primjer impulsnog odziva filtra sedmog reda ($M=7$) jest\n",
        "\n",
        "\\begin{align}\n",
        "h[n]=\\sum_{j=0}^{7}b_j\\delta[n-j]\n",
        "&=\\bigl\\{\\underline{b_0},b_1,b_2,b_3,b_4,b_5,b_6,b_7\\bigr\\}\\\\\n",
        "&=\\bigl\\{\\underline{b_0},b_1,b_2,b_3,b_3,b_2,b_1,b_0\\bigr\\}.\n",
        "\\end{align}\n",
        "\n",
        "Prema uvjetu simetrije vrijedi\n",
        "\n",
        "\\begin{align}\n",
        "h[0]&=b_0=b_7=h[7-0]=h[7]\\\\\n",
        "h[1]&=b_1=b_6=h[7-1]=h[6]\\\\\n",
        "h[2]&=b_2=b_5=h[7-2]=h[5]\\\\\n",
        "h[3]&=b_3=b_4=h[7-3]=h[4]\\\\\n",
        "\\end{align}\n",
        "\n",
        "pa je centar simetrije točno na polovištu između dva susjedna identična uzorka odziva $b_3$ i $b_4$.\n",
        "\n",
        "Frekvencijska karakterisitka filtra tipa II je uvijek oblika\n",
        "\n",
        "$$\n",
        "H(e^{j\\omega})=e^{-jM\\omega/2}\\Bigl(\\sum_{m=1}^{(M+1)/2}2h\\bigl[{\\textstyle {M+1\\over 2}}-m\\bigr]\\cos\\bigr(\\omega (m-{\\textstyle {1\\over 2}})\\bigr)\\Bigr).\n",
        "$$\n",
        "\n",
        "Primijetite da za $\\omega=\\pi$ uvijek vrijedi $H(e^{j\\pi})=H(-1)=0$.\n",
        "\n",
        "Prema tome filtar tipa II ne možemo koristiti ako dizajniramo visoko-propusne (VP) filtre i pojasne brane (PB)."
      ]
    },
    {
      "cell_type": "markdown",
      "metadata": {
        "id": "FZz6GTiatpev"
      },
      "source": [
        "### 1.2.3. Filtar tipa III\n",
        "\n",
        "Filtar tipa III je parnog reda $M$ i ima točku antisimetrije u $M/2$ što je točno na mjestu središnjeg uzorka impulsnog odziva.\n",
        "\n",
        "Impulsni odziv filtra sadrži točno $L=M+1$ uzoraka, odnosno broj uzoraka impulsnog odziva je neparan.\n",
        "\n",
        "Impulsni odziv filtra tipa III za $0\\le n\\le M$ zadovoljava uvjet antisimetrije\n",
        "\n",
        "$$h[n]=-h[M-n].$$\n",
        "\n",
        "&nbsp;\n",
        "\n",
        "Jedan primjer impulsnog odziva filtra šestog reda ($M=6$) jest\n",
        "\n",
        "\\begin{align}\n",
        "h[n]=\\sum_{j=0}^{6}b_j\\delta[n-j]\n",
        "&=\\bigl\\{\\underline{b_0},b_1,b_2,b_3,b_4,b_5,b_6\\bigr\\}\\\\\n",
        "&=\\bigl\\{\\underline{b_0},b_1,b_2,0,-b_2,-b_1,-b_0\\bigr\\}.\n",
        "\\end{align}\n",
        "\n",
        "Prema uvjetu antisimetrije vrijedi\n",
        "\n",
        "\\begin{align}\n",
        "h[0]&=b_0=-b_6=-h[6-0]=h[6]\\\\\n",
        "h[1]&=b_1=-b_5=-h[6-1]=h[5]\\\\\n",
        "h[2]&=b_2=-b_4=-h[6-2]=h[4]\\\\\n",
        "h[3]&=b_3=-b_3=-h[6-3]=h[3]=0\\\\\n",
        "\\end{align}\n",
        "\n",
        "pa je centar antisimetrije točno na uzorku $b_3=0$ koji mora biti jednak nuli jer jedino za nulu vrijedi $x=-x$. \n",
        "\n",
        "Frekvencijska karakteristika filtra tipa III je uvijek oblika\n",
        "\n",
        "$$\n",
        "H(e^{j\\omega})=e^{-j(M\\omega-\\pi)/2}\\Bigl(\\sum_{m=1}^{M/2}2h\\bigl[{\\textstyle {M\\over 2}}-m\\bigr]\\sin(\\omega m)\\Bigr).\n",
        "$$\n",
        "\n",
        "Primijetite da za $\\omega=0$ uvijek vrijedi $H(e^{j0})=H(1)=0$ i da za $\\omega=\\pi$ uvijek vrijedi $H(e^{j\\pi})=H(-1)=0$.\n",
        "\n",
        "Prema tome filtar tipa III ne možemo koristiti ako dizajniramo nisko-propusne (NP) filtre, visoko-propusne (VP) filtre i pojasne brane (PB).\n"
      ]
    },
    {
      "cell_type": "markdown",
      "metadata": {
        "id": "9oeDJGQKtIQQ"
      },
      "source": [
        "### 1.2.4. Filtar tipa IV\n",
        "\n",
        "Filtar tipa IV je neparnog reda $M$ i ima točku antisimetrije u $M/2$ što je točno između dva uzorka najbliža središtu impulsnog odziva.\n",
        "\n",
        "Impulsni odziv filtra sadrži točno $L=M+1$ uzoraka, odnosno broj uzoraka impulsnog odziva je paran.\n",
        "\n",
        "Impulsni odziv filtra tipa IV za $0\\le n\\le M$ zadovoljava uvjet antisimetrije\n",
        "\n",
        "$$h[n]=-h[M-n].$$\n",
        "\n",
        "&nbsp;\n",
        "\n",
        "Jedan primjer impulsnog odziva filtra sedmog reda ($M=7$) jest:\n",
        "\n",
        "\\begin{align}\n",
        "h[n]=\\sum_{j=0}^{7}b_j\\delta[n-j]\n",
        "&=\\bigl\\{\\underline{b_0},b_1,b_2,b_3,b_4,b_5,b_6,b_7\\bigr\\}\\\\\n",
        "&=\\bigl\\{\\underline{b_0},b_1,b_2,b_3,-b_3,-b_2,-b_1,-b_0\\bigr\\}.\n",
        "\\end{align}\n",
        "\n",
        "Prema uvjetu antisimetrije vrijedi\n",
        "\n",
        "\\begin{align}\n",
        "h[0]&=b_0=-b_7=-h[7-0]=h[7]\\\\\n",
        "h[1]&=b_1=-b_6=-h[7-1]=h[6]\\\\\n",
        "h[2]&=b_2=-b_5=-h[7-2]=h[5]\\\\\n",
        "h[3]&=b_3=-b_4=-h[7-3]=h[4]\\\\\n",
        "\\end{align}\n",
        "\n",
        "pa je centar antisimetrije točno polovištu između uzoraka $b_3$ i $b_4$\n",
        "\n",
        "Frekvencijska karakteristika filtra tipa IV je uvijek oblika\n",
        "\n",
        "$$\n",
        "H(e^{j\\omega})=e^{-j(M\\omega-\\pi)/2}\\Bigl(\\sum_{m=1}^{(M+1)/2}2h\\bigl[{\\textstyle {M+1\\over 2}}-m\\bigr]\\sin\\bigr(\\omega (m-{\\textstyle {1\\over 2}})\\bigr)\\Bigr).\n",
        "$$\n",
        "\n",
        "Primijetite da za $\\omega=0$ uvijek vrijedi $H(e^{j0})=H(1)=0$.\n",
        "\n",
        "Prema tome filtar tipa IV ne možemo koristiti ako dizajniramo nisko-propusne (NP) filtre i pojasne brane (PB)."
      ]
    },
    {
      "cell_type": "markdown",
      "metadata": {
        "id": "hZSTpXKUvyO-"
      },
      "source": [
        "# 2. Dizajniranje FIR filtra generalizirane linearne faze metodom najmanjih kvadrata\n",
        "\n",
        "Korištenje metode najmanjih kvadrata znači da smo za parametar $p$ odabrali vrijednost dva, $p=2$, i zato često kažemo da tražimo rješenje minimizacijskog problema u normi dva.\n",
        "\n",
        "Želimo minimizirati grešku\n",
        "\n",
        "$$E=\\bigl|\\bigl|D(\\omega)-H(e^{j\\omega})\\bigr|\\bigr|_2=\\sqrt{\\int_{-\\pi}^{+\\pi}\\bigl|D(\\omega)-H(e^{j\\omega})\\bigr|^2\\,d\\omega},$$\n",
        "\n",
        "gdje je član $H(e^{j\\omega})$ ograničen na neku od frekvencijskih karakteristika filtara tipa I-IV koje smo već ranije naveli i gdje je član $D(\\omega)$ takav da sadrži neku unaprijed zadanu amplitudu karakteristiku $A_D(\\omega)$ dok je željena faza $\\phi_D(\\omega)$ jednaka fazi odabranog filtra tipa I-IV.\n",
        "\n",
        "Korijenovanje je monotona funkcija koja zbog toga ne utječe na minimizacijski problem pa zato umjesto izravne minimizacije greške $E$ minimiziramo njen kvadrat\n",
        "\n",
        "$$E^2=\\bigl|\\bigl|D(\\omega)-H(e^{j\\omega})\\bigr|\\bigr|_2^2=\\int_{-\\pi}^{+\\pi}\\bigl|D(\\omega)-H(e^{j\\omega})\\bigr|^2\\,d\\omega.$$\n",
        "\n",
        "Na primjer, za FIR filtar generalizirane linearne faze tipa I je\n",
        "\n",
        "$$\n",
        "H(e^{j\\omega})=e^{-jM\\omega/2}\\Bigl(h[{\\textstyle {M\\over 2}}]+\\sum_{m=1}^{M/2}2h\\bigl[{\\textstyle {M\\over 2}}-m\\bigr]\\cos(\\omega m)\\Bigr)\n",
        "$$\n",
        "\n",
        "i\n",
        "\n",
        "$$\\phi_D(\\omega)=-M\\omega/2$$\n",
        "\n",
        "što znači da minimiziramo izraz\n",
        "\n",
        "\\begin{align}\n",
        "E^2=\\bigl|\\bigl|D(\\omega)-H(e^{j\\omega})\\bigr|\\bigr|_2^2\n",
        "&=\\int_{-\\pi}^{+\\pi}\\bigl|D(\\omega)-H(e^{j\\omega})\\bigr|^2\\,d\\omega\\\\\n",
        "&=\\int_{-\\pi}^{+\\pi}\\biggl|A_D(\\omega)e^{j\\phi_D(\\omega)}-e^{-jM\\omega/2}\\Bigl(h[{\\textstyle {M\\over 2}}]+\\sum_{m=1}^{M/2}2h\\bigl[{\\textstyle {M\\over 2}}-m\\bigr]\\cos(\\omega m)\\Bigr)\\biggr|^2\\,d\\omega\\\\\n",
        "&=\\int_{-\\pi}^{+\\pi}\\bigl|e^{-jM\\omega/2}\\bigr|^2\\biggl|A_D(\\omega)-\\Bigl(h[{\\textstyle {M\\over 2}}]+\\sum_{m=1}^{M/2}2h\\bigl[{\\textstyle {M\\over 2}}-m\\bigr]\\cos(\\omega m)\\Bigr)\\biggr|^2\\,d\\omega\\\\\n",
        "&=\\int_{-\\pi}^{+\\pi}\\biggl|\\underbrace{A_D(\\omega)-h[{\\textstyle {M\\over 2}}]-\\sum_{m=1}^{M/2}2h\\bigl[{\\textstyle {M\\over 2}}-m\\bigr]\\cos(\\omega m)}_{=E(\\omega)}\\biggr|^2\\,d\\omega\\\\\n",
        "&=\\Bigl\\langle E(\\omega), E(\\omega)\\Bigr\\rangle.\n",
        "\\end{align}\n",
        "\n",
        "\n",
        "Minimizacija dobivenog izraza je ekvivalentna rješavanju problema predstavljanja amplitudnog spektra $A_D(\\omega)$ kosinusnim redom,\n",
        "\n",
        "$$A_D(\\omega)\\approx h[{\\textstyle {M\\over 2}}]+\\sum_{m=1}^{M/2}2h\\bigl[{\\textstyle {M\\over 2}}-m\\bigr]\\cos(\\omega m),$$\n",
        "\n",
        "odnosno amplitudni spektar $A_D(\\omega)$ predstavljamo korištenjem kosinusnih baznih funkcija $\\cos(\\omega m)$, $m=0,\\ldots,M/2$ s težinama $2h\\bigl[{\\textstyle {M\\over 2}}-m\\bigr]$ za $m>0$ i težinom $h[{M\\over 2}]$ za $m=0$ i pri tome tražimo optimalne težine koje minimiziraju vrijednost greške $E$ i odgovarajuću funkciju razlike $E(\\omega)$.\n",
        "\n",
        "Drugim riječima rečeno, dizajn FIR filtara generalizirane linerane faze metodom najmanjih kvadrata implementiramo isto kao i postupak rastava signala kojeg smo predstavili na predavanjima u prvom dijelu semestra. Kako bi izračunali koeficijente filtra moramo rastaviti željeni amplitudni odziv $A_D(\\omega)$ u linearnu kombinaciju baznih funkcija, bilo sinusa bilo kosinusa, ovisno o tipu FIR filtra generalizirane linearne faze. Zatim, kada smo odredili doprinose pojedinih baznih funckija, iz određenih težina jednostavno dobivamo vrijednosti svakog uzorka impulsnog odziva filtra.\n",
        "\n",
        "Opisani postupak dizajniranja metodom najmanjih kvadrata je implementiran funkcijom `firls` i u SciPyju ([`scipy.signal.firls`](https://docs.scipy.org/doc/scipy/reference/generated/scipy.signal.firls.html)) i Matlabu ([`firls`](https://www.mathworks.com/help/signal/ref/firls.html)), međutim implementacija u SciPyju nije potpuna u smislu da još uvijek ne podržava sva četiri tipa FIR filtara generalizirane linearne faze.\n",
        "\n",
        "Ulazni parametri za SciPyjevu funkciju [`scipy.signal.firls`](https://docs.scipy.org/doc/scipy/reference/generated/scipy.signal.firls.html) su **duljina impulsnog odziva** $L$ (primijetite da je $L=M+1$, gdje je $M$ red filtra) i **željena amplitudna karakteristika** $A_D(\\omega)$ koju zadajemo kao po odsječcima afinu funkciju. Bilješka o nekompletnosti: funkcija `firls` u SciPyju v1.6.0 podržava samo filtre tipa I parnog reda.\n",
        "\n",
        "Ulazni parametri za Matlabovu funkciju [`firls`](https://www.mathworks.com/help/signal/ref/firls.html) su **red filtra** $M$ (opet, $M=L-1$, gdje je $L$ duljina impulsnog odziva filtra) i **željena amplitudna karakteristika** $A_D(\\omega)$ zadana kao po odsječcima afina funkcija.\n",
        "\n",
        "Specifikacija željene amplitudne karakteristike $A_D(\\omega)$ je jednaka za SciPy i za Matlab: zadajemo je kao [po odsječcima afinu funkciju](https://en.wikipedia.org/wiki/Piecewise_linear_function). Svaki afin odsječak amplitudne karaketristike $A_D(\\omega)$ je definiran svojom početnom i krajnjom točkom. Na primjer, $i$-ti odsječak je linija od točke $(F_{2i}, A_{2i})$ do točke $(F_{2i+1}, A_{2i+1})$, gdje su $F_{2i}$ i $F_{2i+1}$ normalizirane frekvencije i gdje su $A_{2i}$ i $A_{2i+1}$ željene vrijednosti amplitude. Radi jednostavnosti frekvencije $F_k$ su normalizirane tako da vrijedi $F_k=\\omega/\\pi$, odnosno počinjemo od nule i završavamo na jedinici (jer $\\omega=\\pi$ odgovara polovici frekvecnije očitavanja). Cjelokupnu amplitudnu karakteristiku $A_D(\\omega)$ sada definiramo preko dva niza, prvog koji sadrži sve normalizirane frekvencije $F_k$ i drugog koje sadrži pridružene amplitude $A_k$, i to uz ograničenje da su normalizirane frekvencije $F_k$ u prvom nizu navedene u neopadajućem redoslijedu (uzlazno sortirane),\n",
        "\n",
        "$$0\\le F_0<F_1\\le F_2<F_3\\le\\cdots\\le F_{2i}<F_{2i+1}\\le\\cdots\\le 1.$$\n",
        "\n",
        "Prema tome afine odsječke navodimo od lijeva na desno tako da prvi odsječak započinje u nuli i tako da zadnji odsječak završava na pola frekvencije očitavanja. Sukladno tome duljina oba niza jest parna, a broj definiranih odječaka je pola duljine niza.\n",
        "\n",
        "Na primjer, želimo li zadati idealan nisko-propusni filtar granične frekvencije $\\omega_c={\\pi\\over4}$ onda definiramo dva niza\n",
        "\n",
        "```\n",
        "F = [0, 0.25, 0.25, 1]\n",
        "A = [1,    1,    0, 0]\n",
        "```\n",
        "\n",
        "koja definiraju dva afina odsječka (ili pravca), prvog od $(F_0,A_0)=(0,1)$ do $(F_1,A_1)=({1\\over4},1)$ i drugog od $(F_2,A_2)=({1\\over4},0)$ do $(F_3,A_3)=(1,0)$.\n"
      ]
    },
    {
      "cell_type": "code",
      "metadata": {
        "colab": {
          "base_uri": "https://localhost:8080/",
          "height": 541
        },
        "id": "YlJhyfuE5XUh",
        "outputId": "b976bb18-05b6-4e17-be87-4d0cc9070353"
      },
      "source": [
        "# Postavi red filtra na 50\n",
        "M = 50;\n",
        "\n",
        "# Definiraj željenu amplitudnu karakteristiku kao po odsječcima afinu funkciju\n",
        "F_ls = [0, 0.25, 0.25, 1];\n",
        "A_ls = [1,    1,    0, 0];\n",
        "\n",
        "# Nacrtaj željenu amplitudnu karakteristiku u crnoj boji\n",
        "W_ls = array(F_ls) * pi;\n",
        "figure(1);\n",
        "for i in range(0, len(F_ls), 2):\n",
        "  plot([W_ls[i], W_ls[i+1]], [A_ls[i], A_ls[i+1]] , 'k');\n",
        "\n",
        "# Metodom najmanjih kvadrata dizajniraj impulsni odziv FIR filtra generalizirane linearne faze\n",
        "h_ls = firls(M+1, F_ls, A_ls);\n",
        "\n",
        "# Izračunaj frekvencijsku karakteristiku dizajniranog filtra\n",
        "W_ls, H_ls = freqz(h_ls);\n",
        "\n",
        "# Nacrtaj ostvarenu amplitudnu karakteristiku u crvenoj boji\n",
        "plot(W_ls, abs(H_ls), 'r');\n",
        "xlabel('frekvencija [rad/uzorku]');\n",
        "ylabel('amplituda');\n",
        "\n",
        "# Nacrtaj ostvarenu faznu karakteristiku u crvenoj boji\n",
        "figure(2);\n",
        "plot(W_ls, unwrap(angle(H_ls)), 'r');\n",
        "xlabel('frekvencija [rad/uzorku]');\n",
        "ylabel('amplituda [rad]');"
      ],
      "execution_count": null,
      "outputs": [
        {
          "output_type": "display_data",
          "data": {
            "image/png": "[encoded data removed]",
            "text/plain": [
              "<Figure size 432x288 with 1 Axes>"
            ]
          },
          "metadata": {
            "needs_background": "light"
          }
        },
        {
          "output_type": "display_data",
          "data": {
            "image/png": "[encoded data removed]",
            "text/plain": [
              "<Figure size 432x288 with 1 Axes>"
            ]
          },
          "metadata": {
            "needs_background": "light"
          }
        }
      ]
    },
    {
      "cell_type": "markdown",
      "metadata": {
        "id": "PPytZJhNJE_2"
      },
      "source": [
        "Primijetite da amplitudna karakteristika filtra dizajniranog metodom najamanjih kvadrata iskazuje nadvišenje (i propad koji opet postaje nadvišenje jer crtamo apsolutnu vrijednost) oko točaka prekida (diskontinuiteta) zadane amplitudne karakteristike $A_D(\\omega)$. U određenim primjenama nadvišenja (i propadi) su nepoželjni. Također primjetite da razlika između željenog odziva $A_d(\\omega)$ i ostvarenog odziva nije jednoliko raspoređena po svim frekvencijama, odnosno iznos grešeke je to veći što smo bliže prekidu i opada kako se udaljemo od prekida. Za dublje objašnjenje ove pojave pročitajte članke o [Gibbsovoj pojavi](https://en.wikipedia.org/wiki/Gibbs_phenomenon) i o [Rungevoj pojavi](https://en.wikipedia.org/wiki/Runge%27s_phenomenon).\n",
        "\n",
        "VAŽNO: Postupak dizajna filtara pomoću funkcije `firls` koristi neku vrstu inverzije matrice kako bi izračunao parametare filtra što u određenim slučajevima može rezultirati numeričkom nestabilnošću. Stoga se frekvencijska karakteristika proračunatog filtra uvijek mora ponovo izračunati korištenjem funkcije `freqz` te usporediti sa željenom karakteristikom kako smo napravili u ovom primjeru."
      ]
    },
    {
      "cell_type": "markdown",
      "metadata": {
        "id": "gz6KKi27miNP"
      },
      "source": [
        "## 2.A Dizajniranje NP i VP filtra metodom najmanjih kvadrata\n",
        "\n",
        "Korištenjem funkcije `firls` dizajnirajte nisko-propusni (NP) i visoko-propusni (VP) FIR filtar generalizirane linearne faze metodom najmanjih kvadrata.\n",
        "\n",
        "Neka oba filtra imaju istu graničnu frekvenciju $\\omega_c={\\pi\\over2}$ i isti red $N=64$.\n",
        "\n",
        "Nakon izračuna koeficijenata filtra nacrtajte amplitudnu i faznu frekvencijsku karakteristiku ostvarnenih FIR filtara, i to zajedno na istom grafu te odvojeno na zasebnim grafovima.\n",
        "\n",
        "Po potrebi slobodno dodajte onoliko polja za upis koda koliko vam treba."
      ]
    },
    {
      "cell_type": "code",
      "metadata": {
        "id": "8D9rxlXxMc7y"
      },
      "source": [
        "# Upišite vaše rješenje"
      ],
      "execution_count": null,
      "outputs": []
    },
    {
      "cell_type": "markdown",
      "metadata": {
        "id": "Pa3D5KN9Mmn9"
      },
      "source": [
        "Nakon što ste dizajnirali dva zadana filtra odgovorite na sljedeća pitanja:\n",
        "\n",
        "Što se događa s nadvišenjima/propadima oko svakog prekida u amplitudnoj karakteristici kada povećavamo red filtra $N$?\n",
        "\n",
        "**OVDJE UPIŠITE VAŠ ODGOVOR**\n",
        "\n",
        "Možete li predložiti neki postupak za smanjenje nadvišenja/propada? Ako možete, onda objasnite vaše razmišljanje!\n",
        "\n",
        "**OVDJE UPIŠITE VAŠ ODGOVOR**\n",
        "\n",
        "Označimo s $H_{LP}(z)$ prijenosnu funkciju nisko-propusnog filtra i s $H_{HP}(z)$ prijenosnu funkciju visoko-propusnog filtra. Koja je prijenosna funkcija filtra nastalog paralelnim spojem ova dva navedena filtra, odnosno koliko iznosi $H_{LP}(z)+H_{HP}(z)$?\n",
        "\n",
        "**OVDJE UPIŠITE VAŠ ODGOVOR**"
      ]
    },
    {
      "cell_type": "markdown",
      "metadata": {
        "id": "Y6lNyO8lm1bW"
      },
      "source": [
        "# 3. Dizajniranje FIR filtra generalizirane linearne faze metodom minimizacije maksimalnog odstupanja (minimaks)\n",
        "\n",
        "Minimizacija maksimalnog odstupanja znači da smo parametar $p$ postavili u beskonačnost, odnosno $p\\to+\\infty$, i zato često kažemo da tražimo rješenje minimizacijskog problema u normi beskonačno.\n",
        "\n",
        "Želimo minimizirati grešku\n",
        "\n",
        "$$E=\\bigl|\\bigl|D(\\omega)-H(e^{j\\omega})\\bigr|\\bigr|_\\infty=\\lim_{p\\to\\infty}\\sqrt[p]{\\int_{-\\pi}^{+\\pi}\\bigl|D(\\omega)-H(e^{j\\omega})\\bigr|^p\\,d\\omega}=\\max_{\\omega\\in\\langle-\\pi,\\pi\\rangle}\\,\\bigl|D(\\omega)-H(e^{j\\omega})\\bigr|,$$\n",
        "\n",
        "gdje je član $H(e^{j\\omega})$ ograničen na neku od frekvencijskih karakteristika filtara tipa I-IV koje smo već ranije naveli i gdje je član $D(\\omega)$ takav da sadrži neku unaprijed zadanu amplitudu karakteristiku $A_D(\\omega)$ dok je željena faza $\\phi_D(\\omega)$ jednaka fazi odabranog filtra tipa I-IV.\n",
        "\n",
        "Kako za $p\\to+\\infty$ u navedenom izrazu počinje dominirati najveća razlika između $D(\\omega)$ i $H(e^{j\\omega})$ efekitvno minimiziramo maksimalno odstupanje pa zato često kažemo da radimo **minimaks** optimizaciju.\n",
        "\n",
        "Na primjer, za FIR filtar generalizirane linearne faze tipa I je\n",
        "\n",
        "$$\n",
        "H(e^{j\\omega})=e^{-jM\\omega/2}\\Bigl(h[{\\textstyle {M\\over 2}}]+\\sum_{m=1}^{M/2}2h\\bigl[{\\textstyle {M\\over 2}}-m\\bigr]\\cos(\\omega m)\\Bigr)\n",
        "$$\n",
        "\n",
        "i\n",
        "\n",
        "$$\\phi_D(\\omega)=-M\\omega/2$$\n",
        "\n",
        "što znači da minimiziramo izraz\n",
        "\n",
        "\\begin{align}\n",
        "E=\\bigl|\\bigl|D(\\omega)-H(e^{j\\omega})\\bigr|\\bigr|_\\infty\n",
        "&=\\max_{\\omega\\in\\langle-\\pi,\\pi\\rangle}\\,\\bigl|D(\\omega)-H(e^{j\\omega})\\bigr|\\\\\n",
        "&=\\max_{\\omega\\in\\langle-\\pi,\\pi\\rangle}\\,\\biggl|A_D(\\omega)e^{j\\phi_D(\\omega)}-e^{-jM\\omega/2}\\Bigl(h[{\\textstyle {M\\over 2}}]+\\sum_{m=1}^{M/2}2h\\bigl[{\\textstyle {M\\over 2}}-m\\bigr]\\cos(\\omega m)\\Bigr)\\biggr|\\\\\n",
        "&=\\max_{\\omega\\in\\langle-\\pi,\\pi\\rangle}\\,|e^{-jM\\omega/2}|\\biggl|A_D(\\omega)-h[{\\textstyle {M\\over 2}}]-\\sum_{m=1}^{M/2}2h\\bigl[{\\textstyle {M\\over 2}}-m\\bigr]\\cos(\\omega m)\\biggr|\\\\\n",
        "&=\\max_{\\omega\\in\\langle-\\pi,\\pi\\rangle}\\,\\biggl|A_D(\\omega)-h[{\\textstyle {M\\over 2}}]-\\sum_{m=1}^{M/2}2h\\bigl[{\\textstyle {M\\over 2}}-m\\bigr]\\cos(\\omega m)\\biggr|.\n",
        "\\end{align}\n",
        "\n",
        "Greška $E$ koju minimiziramo jest maksimalna razlika između željenog odziva $A_D(\\omega)$ i $H(e^{j\\omega})$. Pripadna funkcija greške se ponekad naziva Čeibšovljevom funkcijom greške jer je rješenje minimaks problema povezano s Čebišovljevim polinomima. Važno je uočiti da ostvarena minimalna vrijednost greške $E$ odozgo ograničava maksimalnu razliku ili odstupanje između željene i ostvarene amplitudne karakteristike za razliku od metode najmanjih kvadrata gdje je $E$ je energija greške koja uopće ne ograničava maksimalno odstupanje. Zbog toga kažemo da je metoda minimaksa robusna metoda dizajniranja filtara.\n",
        "\n",
        "Opisani postupak minimizacije je rješiv, a rješenje je iterativni postupak koji brzo konvergira. Rješenje je prvi put opisano od strane T. Parksa i J. McClellana 1972. godine ([https://doi.org/10.1109/TCT.1972.1083419](https://doi.org/10.1109/TCT.1972.1083419)) i koristi [Remezov algoritam](https://en.wikipedia.org/wiki/Remez_algorithm) za određivanje minimuma. Izvod postupka je nešto složeniji u odnosu na izvod metode najmanjih kvadrata, a uz to je i tehnički naporan jer uvodi univerzalnu supstituciju kako bi sva četiri tipa filtra sveo na isto. Zbog toga ga izostavljamo te studente koji žele znati više upućujemo na Parksom i McClellanov članak ili na bilo koju drugu literaturu o dizajnu digitalnih filtara.\n",
        "\n",
        "Parksov i McClellanov postupak dizajniranja digitalnih filtara implementiran je funkcijom `remez` u SciPyju ([`scipy.signal.remez`](https://docs.scipy.org/doc/scipy/reference/generated/scipy.signal.remez.html)) i funkcijom `firpm` u Matlabu ([`firpm`](https://www.mathworks.com/help/signal/ref/firpm.html)). Funkcija `remez` trenutno također radi u Matlabu, no može biti uklonjena u budućnosti.\n",
        "\n",
        "Sintaksa funkcija `remez` i `firpm` jako je slična sintaksi funkcije `firls` pa ćemo samo navesti bitne razlike.\n",
        "\n",
        "Najznačajnija razlika koja je posljedica minimaks optimizacijskog postupka jest ta da između svaka dva susjedna afina odsječka uvijek mora postojati prijelazno područje, odnosno normalizirane frekvencije $F_k$ su sada nužno rastuće te za njih vrijedi\n",
        "\n",
        "$$0\\le F_0<F_1< F_2<F_3<\\cdots< F_{2i}<F_{2i+1}<\\cdots\\le F_S/2,$$\n",
        "\n",
        "gdje $F_S/2$ opet predstavlja normaliziranu vrijednost točno na pola frekvencije očitavanja (standardni odabir je $F_S=2$). Drugim riječima rečeno, moramo dodati prijelazno područje ili konačni razmak između svaka dva susjedna afina odsječka. Ubačena prijelazna područja ne smiju biti preuska; kao početnu vrijednost dobro je odabrati prijelazna područja širine oko $\\pi/M$.\n",
        "\n",
        "Osim toga implementacija u SciPyju je ograničena je na konstantne vrijednosti afinih odsječaka pa je dozvoljeno zadati samo jednu željenu amplitudu za svaki odsječak. To znači da je niz `A` točno pola duljine od `F`. Dodatna komplikacija jest postupak normalizacije frekvencije kojeg su u SciPyju za funkciju `remez` defnirali s $F_k=\\omega/(2\\pi)$ tako da je $F_S/2=0.5$ umjesto $F_S=2$. To znači da kod poziva funkcije `remez` u SciPyju zadane frekvencije $F_k$ započinju od nule i završavaju u jednoj polovini umjesto u jedan.\n",
        "\n",
        "U Matlabu nema takvih razlika obzirom na ulazne parametre funkcije, dakle funkcije `firls` i `firpm` koriste apsolutno iste speficikaciju za svoje ulazne parametre. Dodatno, funkcija `firpm` u Matlabu podržava po odsječicma afinu funkciju te nije ograničena na način da vrijednost svako odsječka mora biti konstanta."
      ]
    },
    {
      "cell_type": "code",
      "metadata": {
        "id": "9rY58OwhoHff",
        "colab": {
          "base_uri": "https://localhost:8080/",
          "height": 541
        },
        "outputId": "a9c0c136-e606-4801-bd24-37d021810cb5"
      },
      "source": [
        "# Postavi red filtra na 50\n",
        "M = 50;\n",
        "\n",
        "# Definiraj željenu amplitudnu karakterisitku kao po odsječcima konstantnu funkciju\n",
        "F_pm = [0, 0.22/2, 0.27/2, 1/2];\n",
        "A_pm = [1, 0];\n",
        "\n",
        "# Prvo radi usporedbe nacrtaj filtre ostvarene metodom najmanjih kvadrata tako da su grafovi najdonji\n",
        "figure(1)\n",
        "plot(W_ls, abs(H_ls), 'b');\n",
        "figure(2)\n",
        "plot(W_ls, unwrap(angle(H_ls)), 'b');\n",
        "\n",
        "# Nacrtaj željenu amplitudnu karakteristiku u crnoj boji\n",
        "W_pm = array(F_pm) * 2 * pi;\n",
        "figure(1);\n",
        "for i in range(0, len(A_pm)-1, 1):\n",
        "  plot([W_pm[2*i], W_pm[2*i+1]], [A_pm[i], A_pm[i]] , 'k');\n",
        "\n",
        "# Metodom minimaksa dizajniraj impulsni odziv FIR filtra generalizirane linearne faze\n",
        "h_pm = remez(M+1, F_pm, A_pm);\n",
        "\n",
        "# Izračunaj frekvencijsku karakteristiku ostvarenog filtra\n",
        "W_pm, H_pm = freqz(h_pm);\n",
        "\n",
        "# Nacrtaj ostvarenu amplitudnu karakteristiku u crvenoj boji\n",
        "figure(1)\n",
        "plot(W_pm, abs(H_pm), 'r');\n",
        "xlabel('frekvencija [rad/uzorku]');\n",
        "ylabel('amplituda');\n",
        "\n",
        "# Nacrtaj ostvarenu faznu karakteristiku u crvenoj boji\n",
        "figure(2);\n",
        "plot(W_pm, unwrap(angle(H_pm)), 'r');\n",
        "xlabel('frekvencija [rad/uzorku]');\n",
        "ylabel('faza [rad]');"
      ],
      "execution_count": null,
      "outputs": [
        {
          "output_type": "display_data",
          "data": {
            "image/png": "[encoded data removed]",
            "text/plain": [
              "<Figure size 432x288 with 1 Axes>"
            ]
          },
          "metadata": {
            "needs_background": "light"
          }
        },
        {
          "output_type": "display_data",
          "data": {
            "image/png": "[encoded data removed]",
            "text/plain": [
              "<Figure size 432x288 with 1 Axes>"
            ]
          },
          "metadata": {
            "needs_background": "light"
          }
        }
      ]
    },
    {
      "cell_type": "markdown",
      "metadata": {
        "id": "7k9yWbW6a4HA"
      },
      "source": [
        "Primijetite da amplitudna karakteristika dizajniranog minimaks filtra iskazuje jednolika periodička odstupanja od željene karakteristike pa se takvi filtri zovi i filtri **jednolike valovitosti** (engl. *equiripple*).\n",
        "\n",
        "Kako minimiziramo maksimalnu pogrešku za fiksirani red filtra $M$ i za fiksiranu željenu amplitudnu karakteristiku filtar **jednolike valovitosti** će uvijek imati **manje** maksimalno odstupanja od željene karakteristike u odnosu na filtar ostvaren metodom najmanjih kvadrata. To se postiže zato jer je greška kod filtra jednolike valovitosti raspoređena kroz sve frekvencije, a kod filtra najmanjih kvadrata greška je koncentrirana u području oko prekida ili diskontinuiteta. \n",
        "\n",
        "VAŽNO: Postupak dizajna filtara pomoću funkcija `remez` i `firpm` koristi neku vrstu inverzije matrice kako bi izračunao parametare filtra što u određenim slučajevima može rezultirati numeričkom nestabilnošću. Stoga se frekvencijska karakteristika proračunatog filtra uvijek mora ponovo izračunati korištenjem funkcije `freqz` te usporediti s željenom karakteristikom."
      ]
    },
    {
      "cell_type": "markdown",
      "metadata": {
        "id": "k3SouIRpS2-t"
      },
      "source": [
        "# 3.A Dizajniranje NP i VP filtra metodom minimaksa\n",
        "\n",
        "Korištenjem funkcije `remez` dizajnirajte nisko-propusni i visoko-propusni FIR filtar generalizirane linearne faze metodom minimaksa.\n",
        "\n",
        "Neka oba filtra imaju istu graničnu frekvenciju $\\omega_c={\\pi\\over2}$ i isti red $N=64$.\n",
        "\n",
        "Nakon izračuna koeficijenata filtra nacrtajte amplitudnu i faznu frekvencijsku karakteristiku ostvarnenih FIR filtara, i to zajedno na istom grafu te odvojeno na zasebnim grafovima.\n",
        "\n",
        "Po potrebi slobodno dodajte onoliko polja za upis koda koliko vam treba."
      ]
    },
    {
      "cell_type": "code",
      "metadata": {
        "id": "8szqbX47TNwH"
      },
      "source": [
        "# Upišite vaše rješenje"
      ],
      "execution_count": null,
      "outputs": []
    },
    {
      "cell_type": "markdown",
      "metadata": {
        "id": "pnNAsP3ETQUi"
      },
      "source": [
        "Nakon što ste dizajnirali dva zadana filtra odgovorite na sljedeća pitanja:\n",
        "\n",
        "Što se događa s amplitudom jednolike valovitosti (iznosom maksimalne greške) ako suzimo prijelazno područje, a što ako ga proširimo?\n",
        "\n",
        "**OVDJE UPIŠITE VAŠ ODGOVOR**"
      ]
    },
    {
      "cell_type": "markdown",
      "metadata": {
        "id": "kbPEmdyFTwrr"
      },
      "source": [
        "## 4. Položaj nula\n",
        "\n",
        "Svaki digitalni filtar u potpunosti je opisan položajem vlastitih polova i nula.\n",
        "\n",
        "FIR filtri nemaju ne-trivijalnih polova što znači da samo nule utječu na njihovu frekvencijsku karakteristiku. Prema tome kod FIR filtara nas zanima isključivo položaj vlastitih nula.\n",
        "\n",
        "Znamo da ako je impulsni odziv realan onda su nule digitalnog filtra ili čisto realne ili su sparene u konjugirano-kompleksne parove.\n",
        "\n",
        "Također, nula filtra postavljena na jediničnu kružnicu $z=e^{j\\omega}$ na frekvenciju $\\omega_0$ uzrokuje da amplitudna karakteristika na $\\omega_0$ postane jednaka nuli. U tom slučaju kažemo da filtar u potpunosti **zatire** odabranu frekvenciju."
      ]
    },
    {
      "cell_type": "markdown",
      "metadata": {
        "id": "hughcuQRaIwl"
      },
      "source": [
        "## 4.1. Položaj nula kod FIR filtara generalizirane linearne faze\n",
        "\n",
        "Kod određivanja položaja nula od posebnog interesa su FIR filtri generalizirane linearne faze. Impulsni odziv tih filtara zadovoljava svojstvo simetrije ili antisimetrije,\n",
        "\n",
        "$$h[n]=\\pm h[M-n].$$\n",
        "\n",
        "Gore navedeno svojstvo impulsnog odziva omogućava nam da prijenosnu funkcija filtra izrazimo na dva različita načina,\n",
        "\n",
        "$$H(z)=\\sum_{n=0}^{M}h[n]z^{-n}=\\sum_{n=0}^{M}\\pm h[M-n]z^{-n}.$$\n",
        "\n",
        "Zamjena varijable $m=M-n$ sada daje\n",
        "\n",
        "$$H(z)=\\sum_{n=0}^{M}\\pm h[M-n]z^{-n}=\\sum_{m=0}^{M}\\pm h[m]z^{-M+m}=z^{-M}\\sum_{m=0}^{M}\\pm h[m]z^{m}.$$\n",
        "\n",
        "Također vrijedi\n",
        "\n",
        "$$\\sum_{m=0}^{M}h[m]z^{m}=H(z^{-1}),$$\n",
        "\n",
        "pa na kraju dobivamo\n",
        "\n",
        "$$H(z)=\\pm z^{-M}H(z^{-1}).$$\n",
        "\n",
        "Polinome $H(z)$ s realnim koeficijentima koji zadovoljavu gore navedene uvjete obično zovemo polinomima sa zrcalnim koeficijentima. U engleskoj literaturi se još preciznije koriste izrazi **mirror-image polynomial** i **antimirror-image polynomial**.\n",
        "\n",
        "Za takav polinom vrijedi da ako je $z_0$ njegova nula onda je i $1/z_0$ također njegova nula.\n",
        "\n",
        "To svojstvo proizlazi odmah iz $H(z)=\\pm z^{-M}H(z^{-1})$ jer za $z_0\\neq 0$ imamo $H(z_0)=0=z_0^{-M}H(z_0^{-1})$ što vrijedi samo ako je $H(z_0^{-1})=0$.\n",
        "\n",
        "Navedeno ograničenje položaja nula FIR filtra linearne faze je očekivano obzirom na to da simetrija ili antisimetrija pripadajućeg impulsnog odziva smanjuje broj stupnjeve slobode u optimizacijskom problemu na pola. Prema tome kada bi dizajnirali takve filtre korištenjem reprezentacije preko nula, polova i pojačanja onda je samo dio nula slobodno raspoređen i podložan optimizaciji, a preostale nule su unaprijed ograničene uvjetima koji ih sparuju u konjugirano-kompleksne i u recipročne parove.\n"
      ]
    },
    {
      "cell_type": "markdown",
      "metadata": {
        "id": "HsL1z6bYYfFT"
      },
      "source": [
        "## 4. Položaj nula kod pojasnog propusta i kod pojasne brane\n",
        "\n",
        "Skicirajte položaje nula za sva četiri prethodno dizajnirana FIR filtra generalizirane linearne faze.\n",
        "\n",
        "Položaje nula za svaki od filtara nacrtajte na novoj slici.\n",
        "\n",
        "Uputa: Iskoristite kod pripremljen za drugu laboratorijsku vježbu.\n",
        "\n",
        "**VAŽNO:** Nule FIR filtra generalizirane linearne faze su konjugirano-kompleksne i recipročne s obzirom na jediničnu kružnicu, odnosno povezane su izrazima $re^{\\pm j\\phi}$ i $r^{-1}e^{\\pm j\\phi}$ (pogledaj tekst o polinomima sa zrcalnim koeficijentima). Prema tome svaka nula s neiščežavajućim imaginarnim dijelom određuje još do najviše tri nule sukladno recipročnosti i konjugirano-kompleksnosti, a čisto realne nula određuje samo svoj recipročni par (osim ako je točno u $\\pm1$).\n",
        "\n",
        "**VAŽNO:** Dva filtra s graničnom frekvencijom $\\pi/2$ koja ste dizajnirali u ovoj laboratorijskoj vježbom mogu uzrokovati numeričku nestabilnost u funkciji `roots` za numeričko računanje korjena polinoma. Ako pri skiciranju položaja nula dobiveni položaji nemaju smisla obzirom na dobivenu amplitudnu karakteristiku, dakle ako nema nula na jediničnoj kružnici i ako nema konjugirano-kompleksnih i recipročnih parova nula, tada zaokružite koeficijente impulsnog odziva koji su bliski nuli s razlikom reda veličine `numpy.finfo(float).eps` na nulu kako bi stabilizirali rezultat funkcije `roots`.\n",
        "\n",
        "Obzirom na navedeni numerički problem imajte u vidu da postupak numeričkog dizajniranja nekih filtra računalom korištenjem funkcija opisanih u ovoj vježbi postaje gotovo pa nemoguć kada red filtra pređe specifičnu vrijednost koja ovisi o numeričkoj preciznosti računala koje se koristi za projektiranje.\n",
        "\n",
        "&nbsp;\n",
        "\n",
        "Po potrebi slobodno dodajte onoliko polja za upis koda koliko vam treba."
      ]
    },
    {
      "cell_type": "code",
      "metadata": {
        "id": "PZ5vjdSPYsC8"
      },
      "source": [
        "# Upišite vaše rješenje"
      ],
      "execution_count": null,
      "outputs": []
    },
    {
      "cell_type": "markdown",
      "metadata": {
        "id": "z-AzlFFCY2t7"
      },
      "source": [
        "Kada ste nacrtali sva položaj nula za sva četiri dizajnirana filtra odgovorite na sljedeće pitanje:\n",
        "\n",
        "Što možete reći o položaju nula za pojas frekvencija u kojem filtar propušta, a što za pojas frekvencija u kojem filtar guši signal? U kojem od ta dva pojasa su nule točno na jediničnoj kružnici?\n",
        "\n",
        "**OVDJE UPIŠITE VAŠ ODGOVOR**"
      ]
    }
  ]
}