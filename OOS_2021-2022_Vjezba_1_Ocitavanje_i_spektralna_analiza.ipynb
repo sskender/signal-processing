{
  "nbformat": 4,
  "nbformat_minor": 0,
  "metadata": {
    "colab": {
      "name": "OOS_2021-2022_Vježba_1_Očitavanje_i_spektralna_analiza.ipynb",
      "provenance": [],
      "collapsed_sections": []
    },
    "kernelspec": {
      "name": "python3",
      "display_name": "Python 3"
    }
  },
  "cells": [
    {
      "cell_type": "markdown",
      "metadata": {
        "id": "17gpYVH0HG2r"
      },
      "source": [
        "Sveučilište u Zagrebu<br/>\n",
        "Fakultet elektrotehnike i računarstva<br/>\n",
        "Zavod za elektroničke sustave i obradbu informacija\n",
        "\n",
        "Akademska školska godina 2021/2022\n",
        "\n",
        "**1. vježba: Očitavanje i spektralna analiza**\n",
        "\n",
        "*Osnove obradbe signala* (183447, 223374)\n",
        "\n",
        "Autor: Tomislav Petković\n",
        "\n",
        "Datum: 2021-10-25\n",
        "\n",
        "Molimo vas da komentare na ove upute (ispravke, primjedbe, prijedloge itd.) šaljete e-poštom na tomislav.petkovic.jr@fer.hr."
      ]
    },
    {
      "cell_type": "markdown",
      "metadata": {
        "id": "CX1iukIi-ik4"
      },
      "source": [
        "© Sveučilište u Zagrebu Fakultet elektrotehnike i računarstva, 2021.\n",
        "\n",
        "Umnažanje i distribucija ovih uputa je dozvoljena samo ako svaka kopija sadrži gorenavedenu informaciju o autorskim pravima te ovu dozvolu o umnažanju."
      ]
    },
    {
      "cell_type": "markdown",
      "metadata": {
        "id": "nbp4R_gNpLKV"
      },
      "source": [
        "# Uvod\n",
        "\n",
        "Upute za prvu laboratorijsku vježbu iz predmeta *Osnove obradbe signala* su pripremljene u obliku <a href=\"https://jupyter.org/\">Jupyterske</a>  bilježnice.\n",
        "\n",
        "Jupyterska bilježnica koristi <a href=\"https://ipython.org/\">IPython</a> koji je interaktivni interpreter za Pyhton. Uobičajeni način korištenja bilježnice je kroz internetski preglednik. Pri tome preglednik može biti spojen na lokalnu bilježnicu, no isto tako se mogu koristiti udaljene bilježnice koje se izvršavaju na Googleovom Colaboratoryu.\n",
        "\n",
        "Svi zadaci u ovoj bilježnici su dovoljno jednostavni tako da se mogu riješiti korištenjem <a href=\"https://colab.research.google.com\">Googleovog Colaboratorya</a> (skraćeno Colab).\n",
        "\n",
        "Svaki softver je samo alat. Sukaldno tome, osim Pythona studenti slobodno mogu koristiti i druge alate kao što su <a href=\"https://www.mathworks.com/products/matlab.html\">Matlab</a>, <a href=\"https://www.gnu.org/software/octave/index\">GNU Octave</a> i <a href=\"https://www.scilab.org/\">Scilab</a> kako bi riješili zadane zadatke. Napominjemo da korištenje drugih alata može značiti da vaš izvještaj s vježbe ne možete predati popunjavanjem ove bilježnice, odnosno da morate pripremiti novi pisani izvještaj. Dodatno, nastavnici vam mogu pomoći oko izrade vježbe samo ako koristite Colab i/ili Matlab."
      ]
    },
    {
      "cell_type": "markdown",
      "metadata": {
        "id": "WlRpFNuqEqTM"
      },
      "source": [
        "## Upute za predaju izvještaja s vježbe\n",
        "\n",
        "Ako rješavate vježbu u Pythonu korištenjem Colaba onda jednostavn upišite vaše odgovore u prazna polja, i to programski kod u polja za kod te odgovore na postavljena pitanja u tekstualna polja.\n",
        "\n",
        "Prazna polja za programski kod sadrže zadani komentar `# Upišite vaše rješenje`, dok tekstualna polja u koja morate upisati odgovor sadrže masni tekst napisan velikim tiskanim slovima **OVDJE UPIŠITE VAŠ ODGOVOR**.\n",
        "\n",
        "Jednom kada su svi zadaci riješeni ispunjenu bilježnicu predajete e-poštom na tomislav.petkovic.jr@fer.hr uz `[OOS] 1. vježba` kao naslov poruke.\n",
        "\n",
        "Predane bilježnice će prvo biti automatski re-evaluirane što odgovara naredbi  *Restart and run all* u Colabu. Prema tome, svakako prije predaje vaše bilježnice pokrenite tu naredbu i provjerite ispravnost vaših rješenja.\n",
        "\n",
        "Ako ste vježbu izradili korištenjem nekog drugog softvera koji nije kompatibilan s Jupyterskom bilježnicom onda morate pripremiti standardni pisani izvještaj s laboratorijske vježbe."
      ]
    },
    {
      "cell_type": "markdown",
      "metadata": {
        "id": "B_rW2yC3Eqf8"
      },
      "source": [
        "## Podaci o studentu\n",
        "\n",
        "Molimo vas da prije ispunjavanja ostatka bilježnice dvaput kliknete na ovaj tekst te zatim upište vaše podatke:\n",
        "\n",
        "Ime: **IME i PREZIME**\n",
        "\n",
        "Matični broj (JMBAG): **0036XXXX**"
      ]
    },
    {
      "cell_type": "markdown",
      "metadata": {
        "id": "hCuuFmADEqps"
      },
      "source": [
        "## Preporučeno čitanje\n",
        "\n",
        "Ako do sada niste koristili Python onda započnite s bilo kojim od kratkih uvoda za početnike kao što je npr. službeni tutorial dostupan na adresi <a href=\"https://docs.python.org/3/tutorial/\">https://docs.python.org/3/tutorial/</a>.\n",
        "\n",
        "Studentima dobro upoznatim s Matlabom koji su početnici u Pythonu se toplo preporuča da pročitaju dokument <a href=\"https://numpy.org/doc/stable/user/numpy-for-matlab-users.html\">NumPy for Matlab users</a> prije rješavanja ove laboratorijske vježbe u Colabu."
      ]
    },
    {
      "cell_type": "markdown",
      "metadata": {
        "id": "A_bBYIVb7huY"
      },
      "source": [
        "## Uvoz potrebnih funkcija\n",
        "\n",
        "Radi smanjivanja razlika između programskog koda u Pythonu i u Matlabu u ovoj bilježnici ćemo namjerno uvesti sve potrebne funkcije iz <a href=\"https://www.scipy.org/\">SciPy</a>-ja, <a href=\"https://numpy.org/\">NumPy</a>-ja i <a href=\"https://matplotlib.org/\">Matplotlib</a>-a izravno u globalni imenik tako da možemo jednostavno pisati `fft` umjesto punog imena `scipy.fft.fft`.\n",
        "\n",
        "Svakako imajte u vidu da je ovakav pristup uvjetno prihvatljiv radi pojednostavljenja koda za laboratorijske vježbe jer su rizici kolizije i neočekivanih nuspojava minimalni. Svakako ga je najbolje izbjegavati u produkcijskom kodu.\n",
        "\n",
        "Ako preferirate korištenje imenika i punih imena funkcija onda slobodno izmijenite naredbe za uvoz funkcija tako da sve uvezene funkcije ostanu strogo razdvojene."
      ]
    },
    {
      "cell_type": "code",
      "metadata": {
        "id": "PpDMuZ7on9Nh"
      },
      "source": [
        "# Uvezi potrebne funkcije u globalni imenik; numpy mora biti učitan prvi\n",
        "from numpy import *\n",
        "from scipy.signal import *\n",
        "from scipy.fft import *\n",
        "from matplotlib.pyplot import *"
      ],
      "execution_count": null,
      "outputs": []
    },
    {
      "cell_type": "markdown",
      "metadata": {
        "id": "gxYnHRdLlgFH"
      },
      "source": [
        "# 1. Vremenski diskretni sinusoidalni signali\n",
        "\n",
        "U ovoj laboratorijskoj vježbi istražujemo kako se računala koriste za numeričku analizu signala. Radi jednostavnosti koristitimo isključivo sintetičke signale. Kada generiramo sitnetički signal u NumPyju ili u Matlabu obično započinjemo s geneiranjem niza (vektora) koji sadrži vremenske korake, i to korištenjem naredbe [`numpy.arrange`](https://numpy.org/doc/stable/reference/generated/numpy.arange.html) u Pyhtonu ili korištenjem Matlabovog operatora [`:`](https://www.mathworks.com/help/matlab/ref/colon.html). Jednom kada smo generiraili niz odabranih vremenskih koraka na njih možemo primijeniti bilo koju funkciju radi računanja vrijednosti sintetičkog signala.\n",
        "\n",
        "Imajte u vidu da za geneiranje vremenskih koraka koje koristimo za daljnje numeričko računanje svakako želimo generirati brojeve u dvostrukoj preciznosti. Takvo ponašanje je predodređeno u Matlabu, odnosno Matlabova naredba `0:1:99` generira niz brojeva od 0 do 99 s korakom 1 koji su spremljeni u dvostrukoj preciznosti. Nasuport tome, u Pythonu naredba `numpy.arange(0, 99, 1)` će gotovo sigurno generirati niz tipa `int64` pa zato uvijek koristite `numpy.arange(0.0, 99.0, 1.0)` (primijetite decimalnu točku). Također uočite drugačiji redoslijed argumenata: u Matlabu je korak zadan u sredini između početne i konačne vrijednosti dok je u Pythonu zadan kao zadnji argument."
      ]
    },
    {
      "cell_type": "markdown",
      "metadata": {
        "id": "Y6lNyO8lm1bW"
      },
      "source": [
        "## 1.A Generiranje vremenski diskretnih sinusoidalnih signala\n",
        "\n",
        "Napišite funkciju koja generira vremenski diskretan sinusoidalni signal zadan jednadžbom $x[n]=A\\sin(\\omega_0 n + \\varphi)$.\n",
        "\n",
        "Parametri signala koji također moraju biti ulazni parametri tražene funkcije su amplituda $A$, kružna frekvencija $\\omega$, faza $\\varphi$ i broj uzoraka $N$.\n",
        "\n",
        "Jedna moguća deklaracija tražene funkcije jest:\n",
        "\n",
        "```\n",
        "def oos_sin(omega = 1, N = 100, phi = 0, A = 1):\n",
        "  # ovdje dolazi programski kod za računanje x-a\n",
        "  return x\n",
        "```\n",
        "\n",
        "Uputa: Prvo generirajte niz koji sadrži sve $n$-ove korištenjem npr. \n",
        "`n = numpy.arrange(0.0, N-1, 1.0)`, a zatim primijenite funkciju [`numpy.sin`](https://numpy.org/doc/stable/reference/generated/numpy.sin.html) na taj niz."
      ]
    },
    {
      "cell_type": "code",
      "metadata": {
        "id": "9rY58OwhoHff"
      },
      "source": [
        "# Upišite vaše rješenje\n",
        "\n",
        "# Jedno moguće rješenje\n",
        "def oos_sin(omega = 1, N = 100, phi = 0, A = 1):\n",
        "  n = arange(0.0, N-1, 1.0)\n",
        "  x = A * sin(omega * n + phi)\n",
        "  return x"
      ],
      "execution_count": null,
      "outputs": []
    },
    {
      "cell_type": "markdown",
      "metadata": {
        "id": "1nLyw-7X0Cfv"
      },
      "source": [
        "## 1.B Crtanje vremenski diskretnih signala\n",
        "\n",
        "Napišite funkciju koja crta generirani vremenski disretan signal korištenjem `stem` i `plot` naredbe unutar iste slike; želimo nacrtati točna mjesta uzorka signala naredbom `stem` i linije koje spajaju te uzorke naredbom `plot`.\n",
        "\n",
        "Bilješka: Puna imena naredbi `plot` i `stem` u Pythonu su [`matplotlib.pyplot.plot`](https://matplotlib.org/api/_as_gen/matplotlib.pyplot.plot.html) i [`matplotlib.pyplot.stem`](https://matplotlib.org/api/_as_gen/matplotlib.pyplot.stem.html). Te naredbe su jako slične Matlabovim [`stem`](https://www.mathworks.com/help/matlab/ref/stem.html) i [`plot`](https://www.mathworks.com/help/matlab/ref/plot.html) naredbama.\n",
        "\n",
        "Bilješka: Kada koristite `plot` i `stem` unutar ove bilježnice svako polje s kodom će imati svoj poseban prostor za iscrtavanje. Zadavanje višestrukih naredbi `plot` i/ili `stem` unutar jednog polja će samo dodavati elemente u postojeći prostor za iscrtavanje. Želite li razdvojiti nacrtano koristite naredbu [`matplotlib.pyplot.figure`](https://matplotlib.org/api/_as_gen/matplotlib.pyplot.figure.html)."
      ]
    },
    {
      "cell_type": "code",
      "metadata": {
        "id": "u5xBB8Ono6yx"
      },
      "source": [
        "# Upišite vaše rješenje\n",
        "\n",
        "# Jedno moguće rješenje\n",
        "def oos_nacrtaj(x):\n",
        "  figure()\n",
        "  plot(x)\n",
        "  stem(x)"
      ],
      "execution_count": null,
      "outputs": []
    },
    {
      "cell_type": "markdown",
      "metadata": {
        "id": "DPMM3dh41zlf"
      },
      "source": [
        "## 1.C Periodički vremenski diskretni signali\n",
        "\n",
        "Vremenski diskretan signal $x[n]$ je periodičan ako postoji prirodan broj $P>0$ takav da vrijedi $x[n]=x[n+P]$.\n",
        "\n",
        "Najmanji $P$ za koji to vrijedi se naziva temeljni period.\n",
        "\n",
        "Za signale oblika $x[n]=A\\sin\\bigl(\\omega_0 n + \\varphi\\bigr)$ je dobro poznato da samo neke određene vrijednosti kružne frekvencije $\\omega_0$ definiraju vremenski diskretne signale perioda $P$.\n",
        "\n",
        "Odredite uvjet kojeg $\\omega_0$ mora zadovoljiti tako da signal $x[n]$ bude periodičan, odnosno da vrijedi $x[n]=x[n+P]$ gdje je $P$ cijeli broj.\n",
        "\n",
        "Zatim za dva signala $x_1[n]$ i $x_2[n]$ za koje je $\\omega_1=0.1\\pi$ i $\\omega_2=0.8\\pi$ izračunajte temeljne periode $P_1$ i $P_2$ za koje su ti vremenski diskretni signali periodični, ako takvi periodi uopće postoje.\n",
        "\n",
        "Naposlijetku, korištenjem koda iz prethodna dva zadatka (1.A i 1.B) nacrtajte točno dva perioda signala $x_1[n]$ i $x_2[n]$.\n",
        "\n",
        "Uputa: Prvi dio zadatka riješite na papiru. Vaše rješenje na papiru ne trebate prepisivati u ovaj izvještaj; dovoljno je u komentar upisati dobivene vrijednosti za temeljne periode $P_1$ i $P_2$."
      ]
    },
    {
      "cell_type": "code",
      "metadata": {
        "id": "748Qbsfe3BF5"
      },
      "source": [
        "# Upišite vaše rješenje"
      ],
      "execution_count": null,
      "outputs": []
    },
    {
      "cell_type": "markdown",
      "metadata": {
        "id": "clgL6Q0F3OaA"
      },
      "source": [
        "## 1.D Višeznačnost vremenski diskretnih sinusoidalnih signala\n",
        "\n",
        "Povećanje frekvencije $\\Omega_0$ nekog vremenski kontinuiranog sinusoidalnog signala $x(t)=A\\sin(\\Omega_0t+\\varphi)$ uvijek povećava broj oscilacija tog signala unutar bilo kojeg konačnog vremenskog intervala.\n",
        "\n",
        "Isto svojstvo ne vrijedi za vremenski diskretne sinusoidualne signale oblika $x[n]=A\\sin(\\omega_0t+\\varphi)$.\n",
        "\n",
        "Neka su vrijednosti $\\omega_0$ redom $0.1\\pi$, $0.8\\pi$, $\\pi$, $1.2\\pi$, i $1.9\\pi$ te neka je broj uzoraka $N=20$.\n",
        "\n",
        "Korištenjem koda iz prva dva zadatka (1.A i 1.B) prikažite svih pet zadanih vremenski diskretnih sinusoida.\n",
        "\n",
        "Napomena: Kako sve računamo numerički korištenjem računala neke numeričke pogreške su očekivane, i to pogotovo za slučaj $\\omega_0=\\pi$."
      ]
    },
    {
      "cell_type": "code",
      "metadata": {
        "id": "8PcE8YO74jG4"
      },
      "source": [
        "# Upišite vaše rješenje\n",
        "\n",
        "# Jedno moguće rješenje\n",
        "oos_nacrtaj( oos_sin(0.1*pi) )\n",
        "oos_nacrtaj( oos_sin(0.8*pi) )\n",
        "oos_nacrtaj( oos_sin(1.0*pi) )\n",
        "oos_nacrtaj( oos_sin(1.2*pi) )\n",
        "oos_nacrtaj( oos_sin(1.9*pi) )"
      ],
      "execution_count": null,
      "outputs": []
    },
    {
      "cell_type": "markdown",
      "metadata": {
        "id": "6t1Qgum64kwd"
      },
      "source": [
        "Jednom kada ste nacrtali sve zadane signale odgovorite na sljedeća pitanja:\n",
        "\n",
        "Postoji li neka veza između generiranih signala za $0<\\omega<\\pi$ i za $\\pi<\\omega<2\\pi$?\n",
        "\n",
        "**OVDJE UPIŠITE VAŠ ODGOVOR**\n",
        "\n",
        "Za koji interval kružnih frekvencija $\\omega$ su generirani uzorci signala jednoznačni obzirom na zadanu frekvenciju?\n",
        "\n",
        "**OVDJE UPIŠITE VAŠ ODGOVOR**"
      ]
    },
    {
      "cell_type": "markdown",
      "metadata": {
        "id": "b5p_aT3ADCgw"
      },
      "source": [
        "# 2. Generiranje i crtanje vremenski kontinuiranih sinusoidalnih signala\n",
        "\n",
        "Na računalu možemo generirati isključivo vremenski diskretne signale.\n",
        "\n",
        "Prilikom razmatranja procesa očitavanja uobičajeno želimo vizualizirati kako se uzorci ponašaju obzirom na neki polazni vremenski kontinuirani signal.\n",
        "\n",
        "To možemo napraviti na način da na istoj slici nacrtamo vremenski diskretan i vremenski kontinuiran signal, gdje za prvog koristimo naredbu `stem`, a za drugog naredbu `plot`.\n",
        "\n",
        "No pri tome moramo osigurati da su uzorci signala koje prosljeđujemo naredbi `plot` dovoljno gusti tako da ne možemo uočiti linearne segmente koje naredba crta na zaslonu, te da su uzorci očitani s periodom očitavanja koji značajno premašuje Nyquistov uvjet (frekvencija očitavanja je značajno brža/veća od Nyquistove frekvencije ili period očitavanja je značajno manji/kraći od Nyquistovog perioda)."
      ]
    },
    {
      "cell_type": "markdown",
      "metadata": {
        "id": "bLXSLhWGEnng"
      },
      "source": [
        "## 2.A Generiranje sinusoidalnog signala\n",
        "\n",
        "Neka je $T_s$ period očitavanja kojeg koristimo za očitavanje sinusoidalnog signala u $N$ točaka.\n",
        "\n",
        "Napišite funkciju koja generira i koja vraća uzorke dva vremenski diskretna signala.\n",
        "\n",
        "Prvi vremenski diskretni signal kojeg funkcija vraća jest sinusoidalni signal zadan jednadžbom $x_d[n]=A\\sin(\\Omega_0 n T_s⁡+\\varphi)$ (vidi zadatak 1.A).\n",
        "\n",
        "Drugi vremenski diskretni signal kojeg funkcija vraća sadrži uzorke vremenski kontinuiranog signala $x_c(t)=A\\sin(\\Omega_0 t+\\varphi)$ koji su dobiveni korištenjem perioda očitavanja $T_c$ za kojeg sigurno ne dolazi do preklapanja spektra i koji je uz to značajno veći od $T_s$; jedna mogućnost jest odabrati period $T_c$ tako da generiramo barem 10 vremenski diskretnih uzoraka po jednom period vremenski kontinuiranog signala.\n",
        "\n",
        "Jedna moguća deklaracija tražene funkcije jest:\n",
        "\n",
        "```\n",
        "def oos_sin2(Omega = 1, N = 100, Ts = 1, phi = 0, A = 1):\n",
        "  # ovdje dolazi programski kod za računanje signala\n",
        "  return xd, td, xc, tc\n",
        "```\n",
        "\n",
        "Napomena: Vremena očitavanja za dva generirana signala su različita pa stoga funkcija uz vraćanje dva niza koja sadrže uzorke signala mora dodatno vratiti dva niza koja sadrže točne trenutke očitavanja signala; bez informacije o trenutcima očitavanja oba signala te signale nije moguće nacrtati na istoj slici."
      ]
    },
    {
      "cell_type": "code",
      "metadata": {
        "id": "hQRNob-PIPsg"
      },
      "source": [
        "# Upišite vaše rješenje\n",
        "\n",
        "# Jedno moguće rješenje\n",
        "def oos_sin2(Omega = 1, N = 100, Ts = 1, phi = 0, A = 1):\n",
        "  Tc = 0.1 * Ts;\n",
        "  if pi/Omega/5 < Tc:\n",
        "    Tc = pi/Omega/5\n",
        "  t_max = Ts * (N-1);\n",
        "  td = arange(0.0, t_max, Ts)\n",
        "  xd = A * sin(Omega * td + phi)\n",
        "  tc = arange(0.0, t_max, Tc)\n",
        "  xc = A * sin(Omega * tc + phi)\n",
        "  return xd, td, xc, tc"
      ],
      "execution_count": null,
      "outputs": []
    },
    {
      "cell_type": "markdown",
      "metadata": {
        "id": "n0eBD1sZMjcp"
      },
      "source": [
        "## 2.B Crtanje sinusoidalnog signala\n",
        "\n",
        "Jednom kada smo generirali oba signala, uzorkovani signal i dovoljno dobru aproksimaciju polaznog vremenski kontinuiranog signala, možemo ih nacrtati na istoj slici.\n",
        "\n",
        "Napišite funkciju koja crta uzorke oba signala koja smo generirali u zadatku 2.A na istoj slici. Prvi uzorci koji odgovaraju signalu $x_d[n]$ moraju biti nacrtani naredbom `stem`, a drugi uzorci koji odgovaraju signalu $x_c(t)$ moraju biti nacrtani naredbom `plot`."
      ]
    },
    {
      "cell_type": "code",
      "metadata": {
        "id": "-1Qj9049L0Yx"
      },
      "source": [
        "# Upišite vaše rješenje\n",
        "\n",
        "# Jedno moguće rješenje\n",
        "def oos_nacrtaj2(xd, td, xc, tc):\n",
        "  figure()\n",
        "  plot(tc, xc)\n",
        "  stem(td, xd)\n",
        "\n",
        "# Test\n",
        "oos_nacrtaj2( *oos_sin2(pi/2, 25, 0.1) )"
      ],
      "execution_count": null,
      "outputs": []
    },
    {
      "cell_type": "markdown",
      "metadata": {
        "id": "J-twtxAYN9i5"
      },
      "source": [
        "## 2.C Vizualizacija procesa očitavanja\n",
        "\n",
        "Neka broj uzoraka bude $N=10$ i neka period očitavanja bude $T_s=0.1$.\n",
        "\n",
        "Korištenjem koda iz zadataka 2.A i 2.B prikažite uzorke i polazni vremenski kontinuirani signal za sve frekvencije $\\Omega_0$ iz niza $2\\pi$, $8\\pi$, $12\\pi$, $18\\pi$, i $22\\pi$."
      ]
    },
    {
      "cell_type": "code",
      "metadata": {
        "id": "jKHthVqoOj_u"
      },
      "source": [
        "# Upišite vaše rješenje\n",
        "\n",
        "# Jedno moguće rješenje\n",
        "oos_nacrtaj2( *oos_sin2(2*pi, 10, 0.1) )\n",
        "oos_nacrtaj2( *oos_sin2(8*pi, 10, 0.1) )\n",
        "oos_nacrtaj2( *oos_sin2(12*pi, 10, 0.1) )\n",
        "oos_nacrtaj2( *oos_sin2(18*pi, 10, 0.1) )\n",
        "oos_nacrtaj2( *oos_sin2(22*pi, 10, 0.1) )"
      ],
      "execution_count": null,
      "outputs": []
    },
    {
      "cell_type": "markdown",
      "metadata": {
        "id": "6mCykJPyUdxp"
      },
      "source": [
        "# 3. DFT, DTFT i spektralna analiza\n",
        "\n",
        "Diskretna Fourierova transformacija (DFT) u $N$ točaka je standardni alat koji se koristit za analizu signala na računalu. Dodatna prednost korištenja diskretne Fourierove transformacije jest mogućnost njenog efikasnog računanja. \n",
        "\n",
        "DFT u $N$ točaka vremenski diskretnog signala $x[n]$ konačne duljine od $N$ uzoraka jest $$X[k]=\\sum_{n=0}^{N-1}x[n]W_N^{nk},$$ gdje je $$W_N^{nk}=\\exp\\Bigl(-2\\pi j{nk\\over N}\\Bigr)$$ kompleksna eksponencijala i gdje je $X[k]$ spektar signala.\n",
        "\n",
        "Signal rekonstruiramo iz njegovog spektra korištenjem izraza $$x[n]=\\sum_{k=0}^{N-1}X[k]W_N^{-nk}.$$\n",
        "\n",
        "Oba navedena izraza se mogu izračunati izravno uz složenost $O(N^2)$ u broju operacija množenja i zbrajanja, no ako koristimo algoritam brze Fourierove transformacije onda nam posebna struktura transformacijske matrice pridružene DFT-u omogućava nam efikasnije računanje uz složenost $O(N\\log N)$.\n",
        "\n",
        "Brza Fourierova transformacija je dostupna i u SciPyju ([`scipy.fft`](https://docs.scipy.org/doc/scipy/reference/fft.html)) i u Matlabu. Oba alata koriste ista imena funkcija: `fft` se koristi za računanje DFT-a, a `ifft` se koristi za računanje inverznog DFT-a. Puna imena funkcija u SciPyju su [`scipy.fft.fft`](https://docs.scipy.org/doc/scipy/reference/generated/scipy.fft.fft.html) i [`scipy.fft.ifft`](https://docs.scipy.org/doc/scipy/reference/generated/scipy.fft.ifft.html). Želite li znati više svakako usporedite tu dokumentaciju s Matlabovom dokumentacijom za [`fft`](https://www.mathworks.com/help/matlab/ref/fft.html) i [`ifft`](https://www.mathworks.com/help/matlab/ref/ifft.html)."
      ]
    },
    {
      "cell_type": "markdown",
      "metadata": {
        "id": "XkYxg2lQXluh"
      },
      "source": [
        "## 3.A Izravno numeričko računanje DTFT-a u K točaka\n",
        "\n",
        "Neka je $x[n]$ vremenski diskretni signal konačne duljine $L$.\n",
        "\n",
        "Napišite funkciju koja izravno računa vrijednosti od $\\text{DTFT}\\bigl[x[n]\\bigr]$ u točno $K$ jednoliko raspoređenih frekvencija na intervalu $\\langle 0,2\\pi\\rangle$ korištenjem prvih $N$ uzoraka signala. Ako je $N<L$ onda je signal potrebno skratiti odbacivanjem viška, dakle ne koristimo dodatne uzorke, a ako je $L<N$ onda za sve nedostajuće uzorke podrazumijevamo da su jednaki nuli.\n",
        "\n",
        "Jedna moguća deklaracija tražene funkcije jest:\n",
        "\n",
        "```\n",
        "def oos_dtft(x, N, K):\n",
        "  # ovdje dolazi kod za računanje uzoraka DTFT-a\n",
        "  return X\n",
        "```\n",
        "\n",
        "Uputa: Prisjetite se da je DTFT signala $x[n]$ definirana kao $$X(\\omega)=\\sum_{n=-\\infty}^{+\\infty}x[n]e^{j\\omega n}.$$ Kako je prema uvjetu zadataka signal konačnog trajanja zbroj se mijenja u konačan od $0$ do $N-1$. Dodatno, kako želimo jednoliko uzorkovati frekvenciju $\\omega$ u $K$ uzoraka imamo $\\omega=k{2\\pi\\over K}$. Uz ta dva uvjeta dobivamo $$X(k{\\textstyle{2\\pi\\over K}})=\\sum_{n=0}^{L-1}x[n]e^{-jk{2\\pi\\over K}n}.$$ Prema tome, u traženoj funkciji možemo prvo generirati niz indeksa koji sadrži `k` kojeg zatim koristimo za računanje uzoraka frekvencije `omega`. Iteriranjem preko svih uzoraka frekvencije `omega` te preko svih ulaznih uzoraka dobivamo tražene uzorke DTFT-a u $K$ točaka."
      ]
    },
    {
      "cell_type": "code",
      "metadata": {
        "id": "IsCXmhiUZ1MD"
      },
      "source": [
        "# Upišite vaše rješenje"
      ],
      "execution_count": null,
      "outputs": []
    },
    {
      "cell_type": "markdown",
      "metadata": {
        "id": "artjUBP6aLBB"
      },
      "source": [
        "## 3.B Efikasno numeričko računanje DTFT u K točaka\n",
        "\n",
        "Neka je $x[n]$ vremenski diskretni signal konačne duljine $N$.\n",
        "\n",
        "Napišite funkciju koja korištenjem `fft` računa vrijednosti $\\text{DTFT}\\bigl[x[n]\\bigr]$ u $K$ jednoliko raspoređenih frekvencija.\n",
        "\n",
        "Uputa: Usporedite izraz u dokumentaciji funkcije `fft` s izrazom u uputi prethodnog zadatka. Zatim ispravno identificirajte koje vrijednosti morate proslijediti funkciji `fft` kako bi izračunali uzorke DTFT-a.\n",
        "\n",
        "Bilješka: Usporedite vrijeme izvršavanja ove funkcije i one iz zadatka 3.A."
      ]
    },
    {
      "cell_type": "code",
      "metadata": {
        "id": "v_S0sPiKbaPu"
      },
      "source": [
        "# Upišite vaše rješenje"
      ],
      "execution_count": null,
      "outputs": []
    },
    {
      "cell_type": "markdown",
      "metadata": {
        "id": "a6zq9OJCbZaK"
      },
      "source": [
        "## 3.C Crtanje amplitudnog i faznog spektra\n",
        "\n",
        "Jednom kada su izračunati uzorci DFT ili DTFT spektara iste želimo vizualizirati što uobičajeno radimo crtanjem amplitudnog i faznog spektra.\n",
        "\n",
        "Amplitudni spektar možemo dobiti korištenjem funkcije `abs` u NumPyju i u Matlabu (primijetite da je `abs` skraćeni poziv funkcije [`numpy.absolute`](https://numpy.org/doc/stable/reference/generated/numpy.absolute.html)).\n",
        "\n",
        "Fazni spektar je argument ili kut kompleksnog broja koji može biti izračunat korištenjem funkcije `angle`. Puno ime funkcije u NumPyju jest [`numpy.angle`](https://numpy.org/doc/stable/reference/generated/numpy.angle.html), usporedite tu funkciju s Matlabovom [`angle`](https://www.mathworks.com/help/matlab/ref/angle.html). Standardna funkcija `angle` računa kut kompleksnog broja unutar temeljnog intervala $\\langle-\\pi,\\pi\\rangle$ i pri tome ne premata fazu kako bi smanjila broj faznih skokova od $2\\pi$ kada prelazimo kut $\\pm\\pi$. Kako bi odmotali fazu i smanjili broj faznih skokova koristite funkciju `unwrap` u NumPyju ([`numpy.unwrap`](https://numpy.org/doc/stable/reference/generated/numpy.unwrap.html)) i u Matlabu ([`unwrap`](https://www.mathworks.com/help/matlab/ref/unwrap.html)).\n",
        "\n",
        "Također možemo izračunati realni i imaginarni dio spektra korištenjem funkcija  `real` i `imag`. Puna imena tih funkcija u NumPyju su [`numpy.real`](https://numpy.org/doc/stable/reference/generated/numpy.real.html) i [`numpy.imag`](https://numpy.org/doc/stable/reference/generated/numpy.imag.html).\n",
        "\n",
        "Napišite dvije funkcije koje crtaju amplitudni spektar, fazni spektar, realni dio kompleksnog spektra i imaginarni dio kompleksnog spektra, sve unutar jedne slike jedno iznad drugoga; prva funkcija vizualizira spektar za DFT, a druga za DTFT. Spektre za DFT crtajte naredbom `stem`, a izračunate uzorke DTFT spektara crtajte naredbom `plot`. Također primijetite da frekvencijska os za DFT prikazuje indeks $k$, dok za DTFT frekvencijska os prikazuje frekvenciju $\\omega$."
      ]
    },
    {
      "cell_type": "code",
      "metadata": {
        "id": "5TsEMRMBfShC"
      },
      "source": [
        "# Upišite vaše rješenje"
      ],
      "execution_count": null,
      "outputs": []
    },
    {
      "cell_type": "markdown",
      "metadata": {
        "id": "HKQ9n4XzfrCo"
      },
      "source": [
        "## 3.D Računanje i crtanje DFT-a signala konačne duljine\n",
        "\n",
        "Neka je $x[n]=\\{\\underline{1},1,0,0.5\\}$ signal konačne duljine od $L=4$ uzorka. Iskoristite funkcije iz prethodnih zadataka 3.A do 3.C da izračunate i vizualizirate sljedeće spektre: $\\text{DFT}_{4}$, $\\text{DFT}_{16}$, $\\text{DFT}_{1024}$ i $\\text{DTFT}$ uzorkovan u $K=1024$ točke."
      ]
    },
    {
      "cell_type": "code",
      "metadata": {
        "id": "xxYbRBKGfqUm"
      },
      "source": [
        "# Upišite vaše rješenje"
      ],
      "execution_count": null,
      "outputs": []
    },
    {
      "cell_type": "markdown",
      "metadata": {
        "id": "JbO33TEXgtbi"
      },
      "source": [
        "# 4. Razmazivanje spektra (neobavezno)\n",
        "\n",
        "**Ovaj dio vježbe nije obavezan; riješite ga ako želite znati više.**\n",
        "\n",
        "Usporedimo li izračunati DFT spektar segmenta konačnog trajanja nekog signala  sa očekivanim DTFT spektrom idealnog signala vrlo brzo uočavamo da izračunati DFT spektar sadrži spektralne komponente kojih nema u DTFT spektru.\n",
        "\n",
        "Ta razlika u spektrima je uzrokovana *skraćivanjem* signala na neki *konačan interval*, i nešto je što ne možemo izbjeći u praksi jer računala mogu raditi samo sa signalima konačne duljine.\n",
        "\n",
        "Takvo skraćivanje možemo modelirati kao množenje signala $x[n]$ s pravokutnim vremenskim otvorom $w_L[n]$, odnosno $$x_L[n]=x[n]\\cdot w_L[n],$$ gdje je vremenski otvor funkcija koja odabire prvih $L$ uzoraka signala od $0$ do $L-1$ te koja sve ostale uzorke postavlja u nulu. U spektralnoj domeni ova operacija množenja postaje konvolucija između odgovarajućih spektara, dakle $$X_L(\\omega)=X(\\omega)*W_L(\\omega).$$ Tu konvoluciju možemo interpretirati kao razmazivanje idealnog spektra preko spektra vremenskog otvora jer je konačni efekt da spektar signala gubi svoju oštrinu. U općem slučaju spektar je oštriji što je duljina vremenskog otvora $L$ veća. U graničnom slučaju kada $L\\to\\infty$ vremenski otvor $w_L[n]$ postaje jedinična konstanta, $w_L[n]=1$. Spektar jedinične konsntate jest Diracova distribucija $\\delta(\\omega)$ koja je neutralni element za konvoluciju, odnosno $X(\\omega)*\\delta(\\omega)=\\delta(\\omega)*X(\\omega)=X(\\omega)$, te nema gubitka oštrine."
      ]
    },
    {
      "cell_type": "markdown",
      "metadata": {
        "id": "uO4pOsfz7MbQ"
      },
      "source": [
        "## 4.A Generiranje segmenta vremenski diskretne kosinusoide\n",
        "\n",
        "Neka je $x[n]=\\cos(2\\pi{m\\over P}n)$ periodična vremenski diskretna kosinusoida s periodom $P$ te neka je $m$ cijeli broj za koji vrijedi $0\\le m\\le {P\\over2}-1$. Napišite funkciju koja generira niz od $L$ uzoraka signala za zadane parametre $m$ i $P$."
      ]
    },
    {
      "cell_type": "code",
      "metadata": {
        "id": "_vgPzgDR7iU9"
      },
      "source": [
        "# Upišite vaše rješenje"
      ],
      "execution_count": null,
      "outputs": []
    },
    {
      "cell_type": "markdown",
      "metadata": {
        "id": "jVnQurRs7Mqj"
      },
      "source": [
        "## 4.B Spektar vremenski diskretne periodične kosinusoide\n",
        "\n",
        "Neka je $P=L=N=10$ ($N$ je broj uzoraka ili duljina DFT-a).\n",
        "\n",
        "Korištenjem funkcija iz zadataka 3.B i 4.A izračunajte DFT-ove za $m=2$ i za $m=5$ te zatim nacrtajte oba signala i njihove spektre."
      ]
    },
    {
      "cell_type": "code",
      "metadata": {
        "id": "Va3FKBp48Nqf"
      },
      "source": [
        "# Upišite vaše rješenje"
      ],
      "execution_count": null,
      "outputs": []
    },
    {
      "cell_type": "markdown",
      "metadata": {
        "id": "lMqb3rJC7M08"
      },
      "source": [
        "Kako vrijednost parametra $m$ utječe na spektre?\n",
        "\n",
        "**OVDJE UPIŠITE VAŠ ODGOVOR**\n",
        "\n",
        "Ponovite prethodni zadatak za $P=L=N=10$ i za $m=1$.\n"
      ]
    },
    {
      "cell_type": "code",
      "metadata": {
        "id": "TdXJEua98mT3"
      },
      "source": [
        "# Upišite vaše rješenje"
      ],
      "execution_count": null,
      "outputs": []
    },
    {
      "cell_type": "markdown",
      "metadata": {
        "id": "o8o9JoyG7NEh"
      },
      "source": [
        "Što se dogodilo s faznim spektrom?\n",
        "\n",
        "**OVDJE UPIŠITE VAŠ ODGOVOR**\n"
      ]
    },
    {
      "cell_type": "markdown",
      "metadata": {
        "id": "Ujdbaiy_9Oa4"
      },
      "source": [
        "## 4.C Spektar segmenta vremenski diskretne kosinusoide\n",
        "\n",
        "Neka je $P=L=N=10$ i neka je $m=1.4$ (primijetite da $m$ više nije cijeli broj).\n",
        "\n",
        "Izračunajte DFT i nacrtajte spektar."
      ]
    },
    {
      "cell_type": "code",
      "metadata": {
        "id": "pG6tE2GrhNHY"
      },
      "source": [
        "# Upišite vaše rješenje"
      ],
      "execution_count": null,
      "outputs": []
    },
    {
      "cell_type": "markdown",
      "metadata": {
        "id": "gFc_C60N84E2"
      },
      "source": [
        "Vidimo li u spektru jednu čistu spektralnu komponentu koja odgovara sinusoidi (kosinusoidi) ili vidimo više od jedne komponente? Objasnite!\n",
        "\n",
        "**OVDJE UPIŠITE VAŠ ODGOVOR**"
      ]
    }
  ]
}