{
  "nbformat": 4,
  "nbformat_minor": 0,
  "metadata": {
    "colab": {
      "name": "OOS_2021-2022_Vježba_2_LTI_Sustavi.ipynb",
      "provenance": [],
      "collapsed_sections": []
    },
    "kernelspec": {
      "name": "python3",
      "display_name": "Python 3"
    }
  },
  "cells": [
    {
      "cell_type": "markdown",
      "metadata": {
        "id": "17gpYVH0HG2r"
      },
      "source": [
        "Sveučilište u Zagrebu<br/>\n",
        "Fakultet elektrotehnike i računarstva<br/>\n",
        "Zavod za elektroničke sustave i obradbu informacija\n",
        "\n",
        "Akademska školska godina 2021./2022.\n",
        "\n",
        "**2. vježba: Linearni vremenski nepromjenjivi sustavi**\n",
        "\n",
        "*Osnove obradbe signala* (183447, 223374)\n",
        "\n",
        "Autor: Tomislav Petković\n",
        "\n",
        "Datum: 2021-11-08\n",
        "\n",
        "Molimo vas da komentare na ove upute (ispravke, primjedbe, prijedloge itd.) šaljete e-poštom na tomislav.petkovic.jr@fer.hr."
      ]
    },
    {
      "cell_type": "markdown",
      "metadata": {
        "id": "IGXaNpy1-hdT"
      },
      "source": [
        "© Sveučilište u Zagrebu Fakultet elektrotehnike i računarstva, 2021.\n",
        "\n",
        "Umnažanje i distribucija ovih uputa je dozvoljena samo ako svaka kopija sadrži gorenavedenu informaciju o autorskim pravima te ovu dozvolu o umnažanju."
      ]
    },
    {
      "cell_type": "markdown",
      "metadata": {
        "id": "nbp4R_gNpLKV"
      },
      "source": [
        "# Uvod\n",
        "\n",
        "Upute za drugu laboratorijsku vježbu iz predmeta *Osnove obradbe signala* su pripremljene u obliku <a href=\"https://jupyter.org/\">Jupyterske</a> bilježnice.\n",
        "\n",
        "Svi zadaci u ovoj bilježnici su dovoljno jednostavni tako da se mogu riješiti korištenjem <a href=\"https://colab.research.google.com\">Googleovog Colaboratorya</a> (skraćeno Colab).\n",
        "\n",
        "Svaki softver je samo alat. Sukaldno tome, osim Pythona slobodno smijete koristiti i druge alate kao što su <a href=\"https://www.mathworks.com/products/matlab.html\">Matlab</a>, <a href=\"https://www.gnu.org/software/octave/index\">GNU Octave</a> i <a href=\"https://www.scilab.org/\">Scilab</a> kako bi riješili zadane zadatke. Napominjemo da korištenje drugih alata može značiti da vaš izvještaj s vježbe ne možete predati popunjavanjem ove bilježnice, odnosno da morate pripremiti novi pisani izvještaj. Dodatno, nastavnici vam mogu pomoći oko izrade vježbe samo ako koristite Colab i/ili Matlab."
      ]
    },
    {
      "cell_type": "markdown",
      "metadata": {
        "id": "WlRpFNuqEqTM"
      },
      "source": [
        "## Upute za predaju izvještaja s vježbe\n",
        "\n",
        "Ako rješavate vježbu u Pythonu korištenjem Colaba onda jednostavn upišite vaše odgovore u prazna polja, i to programski kod u polja za kod te odgovore na postavljena pitanja u tekstualna polja.\n",
        "\n",
        "Prazna polja za programski kod sadrže zadani komentar `# Upišite vaše rješenje`, dok tekstualna polja u koja morate upisati odgovor sadrže masni tekst napisan velikim tiskanim slovima **OVDJE UPIŠITE VAŠ ODGOVOR**.\n",
        "\n",
        "Jednom kada su svi zadaci riješeni ispunjenu bilježnicu pohranite u datoteku s imenom `JMBAG_IME_PREZIME.ipynb` i predajte je e-poštom na tomislav.petkovic.jr@fer.hr uz `[OOS] 2. vježba` kao naslov poruke.\n",
        "\n",
        "Predane bilježnice će prvo biti automatski re-evaluirane što odgovara naredbi  *Restart and run all* u Colabu. Prema tome, svakako prije predaje vaše bilježnice pokrenite tu naredbu i provjerite ispravnost vaših rješenja.\n",
        "\n",
        "Ako ste vježbu izradili korištenjem nekog drugog softvera koji nije kompatibilan s Jupyterskom bilježnicom onda morate pripremiti standardni pisani izvještaj s laboratorijske vježbe."
      ]
    },
    {
      "cell_type": "markdown",
      "metadata": {
        "id": "B_rW2yC3Eqf8"
      },
      "source": [
        "## Podaci o studentu\n",
        "\n",
        "Molimo vas da prije ispunjavanja ostatka bilježnice dvaput kliknete na ovaj tekst te zatim upište vaše podatke:\n",
        "\n",
        "Ime: **IME i PREZIME**\n",
        "\n",
        "Matični broj (JMBAG): **0036XXXX**"
      ]
    },
    {
      "cell_type": "markdown",
      "metadata": {
        "id": "J70IaDmjuwUq"
      },
      "source": [
        "## Preporučeno čitanje\n",
        "\n",
        "Ako do sada niste koristili Python onda započnite s bilo kojim od kratkih uvoda za početnike kao što je npr. službeni tutorial dostupan na adresi <a href=\"https://docs.python.org/3/tutorial/\">https://docs.python.org/3/tutorial/</a>.\n",
        "\n",
        "Studentima dobro upoznatim s Matlabom koji su početnici u Pythonu se toplo preporuča da pročitaju dokument <a href=\"https://numpy.org/doc/stable/user/numpy-for-matlab-users.html\">NumPy for Matlab users</a> prije rješavanja  laboratorijskih vježbi u Colabu."
      ]
    },
    {
      "cell_type": "markdown",
      "metadata": {
        "id": "A_bBYIVb7huY"
      },
      "source": [
        "## Uvoz potrebnih funkcija\n",
        "\n",
        "Radi smanjivanja razlika između programskog koda u Pythonu i u Matlabu u ovoj bilježnici ćemo namjerno uvesti sve potrebne funkcije iz <a href=\"https://www.scipy.org/\">SciPy</a>-ja, <a href=\"https://numpy.org/\">NumPy</a>-ja i <a href=\"https://matplotlib.org/\">Matplotlib</a>-a izravno u globalni imenik tako da možemo jednostavno pisati `fft` umjesto punog imena `scipy.fft.fft`.\n",
        "\n",
        "Svakako imajte u vidu da je ovakav pristup uvjetno prihvatljiv radi pojednostavljenja koda za laboratorijske vježbe jer su rizici kolizije i neočekivanih nuspojava minimalni. Svakako ga je najbolje izbjegavati u produkcijskom kodu.\n",
        "\n",
        "Ako preferirate korištenje imenika i punih imena funkcija onda slobodno izmijenite naredbe za uvoz funkcija tako da sve uvezene funkcije ostanu strogo razdvojene."
      ]
    },
    {
      "cell_type": "code",
      "metadata": {
        "id": "PpDMuZ7on9Nh"
      },
      "source": [
        "# Uvezi potrebne funkcije u globalni imenik\n",
        "# Iz paketa scipy koristimo scipy.signal.step za kojeg postoji preklapanje s\n",
        "# matplotlib.pyplot.step tako da scipy.signal moramo uvesti nakon matplotlib.pyplot\n",
        "from numpy import *\n",
        "from matplotlib.pyplot import *\n",
        "from scipy.signal import *"
      ],
      "execution_count": 1,
      "outputs": []
    },
    {
      "cell_type": "markdown",
      "metadata": {
        "id": "gxYnHRdLlgFH"
      },
      "source": [
        "# 1. Vremenski diskretni, linearni i vremenski nepromjenjivi sustavi\n",
        "\n",
        "Prvi dio ove bilježnice istražuje kako korištenjem računala analiziramo vremenski diskretan, linearan i vremenski nepromjenjiv sustav. Za linearan i vremenski nepromjenjiv koristimo kraticu LTI, od engl. *linear time invariant*, pa tako kraće pišemo LTI sustav. Još preciznije, naše razmatranje u ovoj vježbi ograničavamo isključivo na kauzalne LTI sustave koji su opisani jednadžbom diferencija sa stalnim koeficijentima,\n",
        "\n",
        "$$a_0y[n]+a_1y[n-1]+a_2y[n-2]+\\cdots+a_Ny[n-N]=b_0x[n]+b_1x[n-1]+b_2x[n-2]+\\cdots+b_Mx[n-M],$$\n",
        "\n",
        "gdje je $x[n]$ ulazni signal, gdje je $y[n]$ je izlazni signal, i gdje su $a_i$, $i=1,\\ldots,N$, i $b_j$, $j=0,1,\\ldots,M$, stalni koefijenti.\n",
        "\n",
        "U vremenskoj domeni uobičajeno sve članove te jednadžbe prikazujemo na način da trenutni izlaz $y[n]$ izražavamo kao funkciju svega ostalog, odnosno\n",
        "\n",
        "$$y[n]={1\\over a_0}\\Bigl(-\\sum_{i=1}^{N}a_iy[n-i]+\\sum_{j=0}^{M}b_jx[n-j]\\Bigr).$$\n",
        "\n",
        "U ovako iskazanoj jednadžbi kauzalnost je jasno uočljiva jer su sve vrijednosti koje su potrebne za računanje izlaza $y[n]$ i koje se sada nalaze s desne strane jednakosti poznate u koraku $n$: članovi izlaza $y[n-i]$ za $i=1,\\ldots,N$ su prethodne vrijednosti izlaza, a članovi ulaza $x[n-j]$ za $j=0,1,\\ldots,M$ su trenutna i prethodne vrijednosti ulaza.\n",
        "\n",
        "Tako zadanu jednadžbu diferencija uobičajeno rješavamo korištenjem jednostrane [Z transformacije](https://en.wikipedia.org/wiki/Z-transform).\n",
        "\n",
        "Jednostrana Z transformacija nekog signala $x[n]$ je definirana kao\n",
        "\n",
        "$$\\mathcal{Z}\\bigl[x[n]\\bigr]=\\sum_{n=0}^{+\\infty}x[n]z^{-n}=X(z),$$\n",
        "\n",
        "no samo za one vrijednosti kompleksne varijable $z$ za koju suma konvergira.\n",
        "\n",
        "Primjena jednostrane Z transformacije na jednadžbu diferencija sa stalnim koeficijentima daje\n",
        "\n",
        "\\begin{align}\n",
        "a_0Y(z)+a_1z^{-1}Y(z)+{}&a_2z^{-2}Y(z)+\\cdots+a_Nz^{-N}Y(z)+{}\\\\\n",
        "{}+y[-1]&\\bigl(a_1+a_2z^{-1}+a_3z^{-2}+\\cdots+a_Nz^{-N+1}\\bigr)+{}\\\\\n",
        "{}+y[-2]&\\bigl(a_2+a_3z^{-1}+\\cdots+a_Nz^{-N+2}\\bigr)+{}\\\\\n",
        "&\\vdots\\\\\n",
        "{}+y[-N+1]&\\bigl(a_{-N+1}+a_{N}z^{-1})+{}\\\\\n",
        "{}+y[-N]&a_{N}\\\\\n",
        "=\\\\\n",
        "b_0X(z)+b_1z^{-1}X(z)+{}&b_2z^{-2}X(z)+\\cdots+b_Mz^{-M}X(z)+{}\\\\\n",
        "{}+x[-1]&\\bigl(b_1+b_2z^{-1}+b_3z^{-2}+\\cdots+b_Mz^{-M+1}\\bigr)+{}\\\\\n",
        "{}+x[-2]&\\bigl(b_2+b_3z^{-1}+\\cdots+b_Mz^{-M+2}\\bigr)+{}\\\\\n",
        "&\\vdots\\\\\n",
        "{}+x[-M+1]&\\bigl(b_{-M+1}+b_{M}z^{-1})+{}\\\\\n",
        "{}+x[-M]&b_{M},\n",
        "\\end{align}\n",
        "\n",
        "što možemo kompaktnije zapisati kao\n",
        "\n",
        "$$Y(z)\\sum_{i=0}^{N}a_iz^{-i}+\\sum_{i=1}^{N}y[-i]\\sum_{k=i}^{N}a_kz^{-k+i}=X(z)\\sum_{j=0}^{M}b_jz^{-j}+\\sum_{j=1}^{M}x[-j]\\sum_{k=j}^{M}b_kz^{-k+j}.$$\n",
        "\n",
        "Napomena: Članovi $y[-i]$ i $x[-j]$ su rezultat korištenja jednostrane Z transformacije u kojoj suma ide od $n=0$ i činjenice da u jednadžbi koristimo zakašnjele izlaze $y[n-i]$ i ulaze $x[n-j]$.\n",
        "\n",
        "Zanemarivanjem početnih uvjeta $y[-i]$ i $x[-j]$ kroz postavljanje istih u nulu dobivamo\n",
        "\n",
        "$$Y(z)\\sum_{i=0}^{N}a_iz^{-i}=X(z)\\sum_{j=0}^{M}b_jz^{-j},$$\n",
        "\n",
        "što je jednostavan algebarski izraz koji povezuje Z transformacije ulaza $x[n]$ i izlaza $y[n]$.\n",
        "\n",
        "Napomena: Zanemarivanje početnih uvjeta $y[-i]$ i $x[-j]$ kroz postavljanje u nulu je opravdano jer se može pokazati da početni uvjeti definiraju isključivo homogeni dio rješenja koji ne ovisi o ulazu $x[n]$ pa prema tome $Y(z)$ u ovoj pojednostavljenoj jednadžbi predstavlja Z transformaciju nekog partikularnog rješenja.\n",
        "\n",
        "Prijenosnu funkciju vremenski diskretnog LTI sustava zato definiramo kao\n",
        "\n",
        "$$H(z)={Y(z)\\over X(z)}={\\strut\\displaystyle\\sum_{j=0}^{M}b_jz^{-j}\\over\\strut\\displaystyle\\sum_{i=0}^{N}a_iz^{-i}}.$$\n",
        "\n",
        "Prijenosna funkcija iskazana u ovom obliku se naziva direktnom jer su koeficijenti brojnika i nazivnika upravo koeficijenti polazne diferencijske jednadžbe sa stalnim koeficijentima.\n",
        "\n",
        "Prvi koeficijent $a_0$ se često normalizira u $1$ čime dobivamo normaliziranu prijenosnu funkciju\n",
        "\n",
        "$$H(z)={B(z)\\over A(z)}={\\strut\\displaystyle\\sum_{j=0}^{M}b_jz^{-j}\\over\\strut\\displaystyle1+\\sum_{i=1}^{N}a_iz^{-i}}={b_0+b_1z^{-1}+b_2z^{-2}+\\cdots+b_{M}z^{-M}\\over1+a_1z^{-1}+a_2z^{-2}+\\cdots+a_Nz^{-N}}.$$\n",
        "\n",
        "Korijene $p_k$, $k=1,\\ldots,N$, polinoma $A(z)=\\sum_{i=0}^{N}a_iz^{-i}=a_0\\prod_{k=1}^{N}(1-p_kz^{-1})$ u **nazivniku** nazivamo **polovima**.\n",
        "\n",
        "Korijene $q_k$, $k=1,\\ldots,M$ polinoma $B(z)=\\sum_{j=0}^{M}b_jz^{-j}=b_0\\prod_{k=1}^{M}(1-q_kz^{-1})$ u **brojniku** nazivamo **nulama**.\n",
        "\n",
        "**Red sustava** jest veći od brojeva $N$ i $M$.\n",
        "\n",
        "Prijenosna funkcija $H(z)$ se često iskazuje kao produkt svojih korjenih faktora što daje reprezentaciju izraženu preko nula, polova i pojačanja, odnosno\n",
        "\n",
        "$$H(z)={B(z)\\over A(z)}=K{\\strut\\displaystyle\\prod_{k=1}^{M}(1-q_kz^{-1})\\over\\strut\\displaystyle\\prod_{k=1}^{N}(1-p_kz^{-1})}=Kz^{M-N}{\\strut\\displaystyle\\prod_{k=1}^{M}(z-q_k)\\over\\strut\\displaystyle\\prod_{k=1}^{N}(z-p_k)},$$\n",
        "\n",
        "pri čemu je $K=b_0/a_0$ pojačanje, a $q_k$ i $p_k$ su nule i polovi. Izlučeni član $z^{M-N}$ definira ili trivijalne polove ili trivijalne nule, ovisno o tome koji od brojeva $N$ i $M$ je veći.\n",
        "\n",
        "Kažemo da je vremenski diskretan LTI sustav **stabilan** ako se **svi** njegovi polovi nalaze **unutar jedinične kružnice**, odnosno ako su $p_k$, $k=1,\\ldots,N$, rješenja jednadžbe $0=A(z)=\\sum_{i=0}^{N}a_iz^{-i}$ onda je sustav stabilan ako je $|p_k|<1$ za sve $k$."
      ]
    },
    {
      "cell_type": "markdown",
      "metadata": {
        "id": "D9t4HXygmfvf"
      },
      "source": [
        "## 1.1. Definiranje vremenski diskretnog LTI sustava\n",
        "\n",
        "Neka je vremenski diskretan LTI sustav zadan svojom prijenosnom funkcijom\n",
        "\n",
        "$$H(z)={B(z)\\over A(z)}={b_0+b_1z^{-1}+b_2z^{-2}+\\cdots+b_{M}z^{-M}\\over a_0+a_1z^{-1}+a_2z^{-2}+\\cdots+a_Nz^{-N}}.$$\n",
        "\n",
        "Za definiranje takvog sustava koristimo [`scipy.signal.TransferFunction`](https://docs.scipy.org/doc/scipy/reference/generated/scipy.signal.TransferFunction.html). No ta funkcija se koristi i za definiranje vremenski kontinuiranih sustava i za definiranje vremenski diskretnih sustava. Kako bi odredili koji od njih definiramo, za vremenski diskretne LTI sustave uvijek moramo zadati period očitavanja `dt`. Primijetite da sama prijenosna funkcija i pripadna jednadžba diferencija ostaju nepromijenjenje bez obzira na izbor perioda očitavanja tako da možemo odabrati bilo koju vrijednost za `dt`, no ako želimo koristiti normalnu vremensku os u kojem vrijeme odgovara jednom koraku ili indeksu pojedinog uzorka onda biramo `dt=1`.\n",
        "\n",
        "Uobičajeni način predstavljanja prijenosne funkcije $H(z)$ u obradbi signala jest korištenjeme negativnih potencija kompleksne varijable $z$. Taj odabir je uvjetovan time da se tako naglašava kauzlanost. Naime, prijenosne funkcije nekauzalnih sustava se ne mogu iskazati korištenjem samo negativnih potencija kompleksne varijable $z$. Nažalost, i Pythonova funkcija [`scipy.signal.TransferFunction`](https://docs.scipy.org/doc/scipy/reference/generated/scipy.signal.TransferFunction.html) i Matlabova funkcija [`tf`](https://www.mathworks.com/help/control/ref/tf.html) su zamišljene za ulazne argumente primaju koeficijente prijenosne funkcije iskazane preko pozitivnih potencija kompleksne varijable $z$. Zato uvijek moramo prepraviti prijenosnu funkciju izlučivanjem odgovarajućih faktora iz brojnika i nazivnika, odnosno\n",
        "\n",
        "$$H(z)={B(z)\\over A(z)}=z^{N-M}{b_0z^{M}+b_1z^{M-1}+b_2z^{M-2}+\\cdots+b_{M}\\over a_0z^{N}+a_1z^{N-1}+a_2z^{N-2}+\\cdots+a_N}.$$\n",
        "\n",
        "I u SciPyju i u Matlabu polinome reprezentiraju vektori koji sadrže redom spremljene koeficijente nekog polinoma, i to tako da prvi koeficijent odgovara najvećoj potenciji, a ostali koeficijenti redom svim preostalim manjim potencijama poredanim silazno. Prema tome, želimo li predstaviti određeni polinom neke prijenosne ponekad moramo dodati nule u niz kojim opisujemo brojnik $B(z)$ ili nazivnik $A(z)$. Kao primjer nam može poslužiti prijenosna funkcija\n",
        "\n",
        "$$H(z)={1\\over 6+5z^{-1}+z^{-2}}={z^2\\over 6z^2+5z+1}.$$\n",
        "\n",
        "Koja od sljedeće dvije definicije te prijenonse funkcije je ispravna?"
      ]
    },
    {
      "cell_type": "code",
      "metadata": {
        "id": "gbU-dLWfplPB"
      },
      "source": [
        "# Prijenosnu funkciju H1 spremamo u sys1\n",
        "num1 = [1]\n",
        "den1 = [6, 5, 1]\n",
        "sys1 = TransferFunction(num1, den1, dt=1)\n",
        "\n",
        "# Prijenosnu funkciju H2 spremamo u sys2\n",
        "num2 = [1, 0, 0]\n",
        "den2 = [6, 5, 1]\n",
        "sys2 = TransferFunction(num2, den2, dt=1)"
      ],
      "execution_count": 2,
      "outputs": []
    },
    {
      "cell_type": "markdown",
      "metadata": {
        "id": "CfxSoVqLqCkm"
      },
      "source": [
        "\n",
        "Nakon izvršavanja gornjeg koda u varijablu `sys1` je spremljena prijenosna funkcija\n",
        "\n",
        "$$H_1(z)={{1\\over6}\\over z^2+{5\\over6}z+{1\\over6}}={z^{-2}\\over 6+5z^{-1}+z^{-2}},$$\n",
        "\n",
        "dok je u varijablu `sys2` spremljena prijenosna funkcija\n",
        "\n",
        "$$H_2(z)={{1\\over6}z^2\\over z^2+{5\\over6}z+{1\\over6}}={1\\over 6+5z^{-1}+z^{-2}}.$$\n",
        "\n",
        "Prema tome ispravna definicija prijenosne funkcije je druga u koju smo dodali nule. Jedina razlika između definiranih prijenosnih funkcija jest u članu $z^{-2}$ (ili $z^2$, ovisno koju funkciju uzimate kao polaznu za usporedbu). Taj član dodaje ili uklanja trivijalne polove ili nule, jedini efekt trivijalnih polova ili nula u ovom slučaju jest unos vremenskog pomaka od dva koraka. \n",
        "\n",
        "Također primijetite da SciPy uvijek normalizira prijenosnu funkciju."
      ]
    },
    {
      "cell_type": "markdown",
      "metadata": {
        "id": "djdY60PZvyLg"
      },
      "source": [
        "## 1.2. Analiza vremenski diskretnog LTI sustava\n",
        "\n",
        "Jednom kada smo definirali vremenski diskretan LTI sustav istog želimo analizirati. Za potpunu analizu uobičajeno:\n",
        "\n",
        "1.   računamo polove i nule te crtamo njihove položaje u kompleksnoj ravnini,\n",
        "2.   ispitujemo stabilnost sustava,\n",
        "3.   iskazujemo prijenosnu funkciju preko nula, polova i pojačanja,\n",
        "4.   računamo frekvencijsku karakteristiku, i\n",
        "5.   određujemo odziv sustava na jedinični impuls i jediničnu stepenicu."
      ]
    },
    {
      "cell_type": "markdown",
      "metadata": {
        "id": "cMKl1WpkwfK3"
      },
      "source": [
        "### 1.2.1. Polovi i nule vremenski diskretnog sustava\n",
        "\n",
        "Polovi i nule su korijeni polinoma u brojniku i nazivniku. Možemo ih izračunati korištenjem funkcije `roots`, bilo Pythonove funkcije [`numpy.roots`](https://numpy.org/doc/stable/reference/generated/numpy.roots.html) ili Matlabove [`roots`](https://www.mathworks.com/help/matlab/ref/roots.html). U Matlabu možemo jednostavno nacrtati položaje svih polova i nula korištenjem naredbe [`pzmap`](https://www.mathworks.com/help/control/ref/pzmap.html), no takva naredba nažalost ne postoji u NumPyju ili SciPyju. Zato moramo crtati položaj polova i nula korištenjem standardnih funkcija za crtanje.\n",
        "\n",
        "Napomena: Kod crtanja mjesta korjena (položaja polova i nula) dogovorno polove označavamo s `x`, a nule s `o`."
      ]
    },
    {
      "cell_type": "code",
      "metadata": {
        "colab": {
          "base_uri": "https://localhost:8080/",
          "height": 317
        },
        "id": "G4F9a0CnwdiL",
        "outputId": "ef3f2314-4d55-4e58-feb5-256d0ba64c91"
      },
      "source": [
        "# Izračunaj nule i polove\n",
        "zeros = roots(num2)\n",
        "poles = roots(den2)\n",
        "\n",
        "# Ispiši dobivene vrijednosti\n",
        "print(zeros)\n",
        "print(poles)\n",
        "\n",
        "# Nacrtaj mjesta korjena (nula i polova)\n",
        "plot(real(zeros), imag(zeros), 'ko')\n",
        "plot(real(poles), imag(poles), 'kx')\n",
        "\n",
        "# Nacrtaj jediničnu kružnicu (granica područja stabilnosti)\n",
        "t = arange(0.0, 2*pi, 0.01)\n",
        "plot(sin(t), cos(t), 'b:')\n",
        "axis(\"equal\")\n",
        "xlabel(\"realni dio\")\n",
        "ylabel(\"imaginarni dio\");"
      ],
      "execution_count": 3,
      "outputs": [
        {
          "output_type": "stream",
          "name": "stdout",
          "text": [
            "[0. 0.]\n",
            "[-0.5        -0.33333333]\n"
          ]
        },
        {
          "output_type": "display_data",
          "data": {
            "image/png": "[encoded data removed]",
            "text/plain": [
              "<Figure size 432x288 with 1 Axes>"
            ]
          },
          "metadata": {
            "needs_background": "light"
          }
        }
      ]
    },
    {
      "cell_type": "markdown",
      "metadata": {
        "id": "V0pfS27gyVwq"
      },
      "source": [
        "### 1.2.2. Stabilnost vremenski diskretnog sustava\n",
        "\n",
        "Za ispitivanje stabilnosti vremenski diskretnog LTI sustava moramo odrediti gdje se nalaze njegovi polovi. Ako su svi polovi unutar jedinične kružnice onda je sustav stabilan. U suprotnom, ako se barem jedan pol nalazi na ili izvan jedinične kružnice, onda je sustav nestabilan.\n",
        "\n",
        "U gornjem primjeru svi polovi su unutar jedinične kružnice pa je prema tome sustav zadan varijablama `num2` i `den2` (odnosno varijablom `sys2`) stabilan.\n",
        "\n",
        "### 1.2.3. Reprezentacija preko nula, polova i pojačanja\n",
        "\n",
        "Reprezentaciju sustava preko nula, polova i pojačanja (engl. *zero-pole-gain*, još se koristi i kratica ZPK gdje K označava konstantu koja definira pojačanje) dobivamo korištenjem funkcije [`scipy.signal.tf2zpk`](https://docs.scipy.org/doc/scipy/reference/generated/scipy.signal.tf2zpk.html) ili metode [`to_zpk`](https://docs.scipy.org/doc/scipy/reference/generated/scipy.signal.TransferFunction.to_tf.html). Funkcija u Matlabu je jednaka, [`tf2zpk`](https://www.mathworks.com/help/signal/ref/tf2zpk.html)."
      ]
    },
    {
      "cell_type": "code",
      "metadata": {
        "colab": {
          "base_uri": "https://localhost:8080/"
        },
        "id": "6w4eGYet0DvJ",
        "outputId": "2fa4ca58-dcd0-49d9-faa6-e2caeed1793d"
      },
      "source": [
        "tf2zpk(num2, den2)"
      ],
      "execution_count": 4,
      "outputs": [
        {
          "output_type": "execute_result",
          "data": {
            "text/plain": [
              "(array([0., 0.]), array([-0.5       , -0.33333333]), 0.16666666666666666)"
            ]
          },
          "metadata": {},
          "execution_count": 4
        }
      ]
    },
    {
      "cell_type": "markdown",
      "metadata": {
        "id": "BN4aKq_Az-fP"
      },
      "source": [
        "Iz dobivenog ispisa vidimo da su dvije nule $q_{1,2}=0$, da su dva pola $p_1=-{1\\over2}$ i $p_2=-{1\\over3}$, i da je pojačanje $K={1\\over6}$.\n",
        "\n",
        "Sve te vrijednosti zajedno jednoznačno definiraju prijenosnu funkciju\n",
        "\n",
        "$$H(z)=K{(z-q_1)(z-q_2)\\over(z-p_1)(z-p_2)}={1\\over6}{(z-0)(z-0)\\over(z+{{1\\over2}})(z+{1\\over3})}.$$"
      ]
    },
    {
      "cell_type": "markdown",
      "metadata": {
        "id": "q9KwYy22zJSw"
      },
      "source": [
        "### 1.2.4. Frekvencijska karakteristika\n",
        "\n",
        "Frekvencijska karakteristika vremenski diskretnog LTI sustava određuje odziv sustava na sinusoidalnu pobudu. Preciznije, ako je pobuda sustava oblika\n",
        "\n",
        "$$x[n]=A_0\\cos(\\omega_0n+\\varphi),$$\n",
        "\n",
        "onda je odziv\n",
        "\n",
        "$$y[n]=A(\\omega_0)A_0\\cos\\bigl(\\omega_0n+\\varphi+\\phi(\\omega_0)\\bigr),$$\n",
        "\n",
        "gdje je $A(\\omega_0)$ amplitudni dio frekvencijske karakteristike i gdje je $\\phi(\\omega_0)$ fazni dio frekvencijske karakteristike.\n",
        "\n",
        "Frekvencijsku karakteristiku dobivamo iz prijenosne funkcije $H(z)$ zamjenom $z\\mapsto e^{j\\omega}$. Ta zamjena je dobro definirana samo ako područje konvergencije ili RoC, od engl. *region of convergence*, prijenosne funkcije $H(z)$ sadrži jediničnu kružnicu. Za stabilne kauzalne sustave jedinična kružnica je uvijek unutar područja konvergnecije pa zamjena $z\\mapsto e^{j\\omega}$ u tom slučaju uvijek pretvara Z transformaciju $H(z)$ u vremenski diskretnu Fourierovu transformaciju (DTFT) $H(e^{j\\omega})$.\n",
        "\n",
        "Kada znamo frekvencijsku karakterisitku $H(e^{j\\omega})$ istu razdvajamo na amplitudno-frekvencijsku karakteristiku\n",
        "\n",
        "$$A(\\omega)=\\bigl|H(e^{j\\omega})\\bigr|,$$\n",
        "\n",
        "i na fazno-frekvencijsku karakteristiku\n",
        "\n",
        "$$\\phi(\\omega)=\\angle H(e^{j\\omega}).$$\n",
        "\n",
        "Dvije funkcije koje u SciPyju koristimo za računanje frekvencijske karakteristike su [`scipy.signal.dfreqresp`](https://docs.scipy.org/doc/scipy/reference/generated/scipy.signal.dfreqresp.html) i [`scipy.signal.dbode`](https://docs.scipy.org/doc/scipy/reference/generated/scipy.signal.dbode.html).\n",
        "\n",
        "`dfreqresp` vraća dva niza brojeva od kojih prvi sadrži uzorke frekvencije $\\omega_k$, a drugi vrijednosti frekvencijske karakteristike $H(e^{j\\omega_k})$.\n",
        "\n",
        "`dbode` pak odmah razdvaja frekvencijsku karakterisitku i vraća tri niza, prvi je opet $\\omega_k$, no druga dva su amplitudno-frekvencijska karakterisitka $A_{\\text{dB}}$ izražena u decibelima [dB] i fazno-frekvencijska karakterisitka $\\phi_{\\text{stp}}$ izražena u stupnjevima [°], odnosno\n",
        "\n",
        "$$A_{\\text{dB}}(\\omega)=20\\log_{10}\\bigl|H(e^{j\\omega})\\bigr|$$\n",
        "\n",
        "i\n",
        "\n",
        "$$\\phi_{\\text{stp}}(\\omega)={\\pi\\over180^\\circ}\\angle H(e^{j\\omega}).$$\n",
        "\n",
        "Za računanje frekvencijske karakteristike također možemo koristiti i `freqz`, i to i u SciPyju i u Matlabu. Funkcija `freqz` kao ulaze očekuje koeficijente brojnika i nazivnika iskazane u negativnim potencijama od $z$, kao što je i standard u obradbi signala.\n",
        "\n",
        "U SciPyju funkcija [`freqz`](https://docs.scipy.org/doc/scipy/reference/generated/scipy.signal.freqz.html) jednostavno računa frekvencijsku karakteristiku iz zadanih koeficijenata brojnika i nazivnika neke racionalne prijenosne funkcije. U odnosnu na istu funkciju u Matlabu redoslijed izlaza funkcije `freqz` u SciPyju je obrnut.\n",
        "\n",
        "U Matlabu funkcija [`freqz`](https://www.mathworks.com/help/signal/ref/freqz.html) ima dualno ponašanje, odnosno ako izlaz `freqz` ne pridružimo nekoj varijabli onda funkcija odmah crta amplitudnu i faznu frekvencijsku karakterisitku, a ako izlaz pridružujemo nekoj varijabli onda funkcija vraća vrijednosti od $H(e^{j\\omega_k})$ i pripadne frekvencije $\\omega_k$."
      ]
    },
    {
      "cell_type": "code",
      "metadata": {
        "colab": {
          "base_uri": "https://localhost:8080/",
          "height": 541
        },
        "id": "DzYbiqUMsXO3",
        "outputId": "daa5500d-d0c0-4268-a410-e2cb98b3e5f6"
      },
      "source": [
        "# Izračunaj frekvencijsku karakteristiku\n",
        "w2, H2 = dfreqresp(sys2)\n",
        "\n",
        "# Nacrtaj amplitudnu karakteristiku\n",
        "figure(1)\n",
        "plot(w2, abs(H2))\n",
        "xlabel('frekvencija [rad/uzorku]')\n",
        "ylabel('amplituda')\n",
        "\n",
        "# Nacrtaj faznu karakteristiku\n",
        "figure(2)\n",
        "plot(w2, angle(H2))\n",
        "xlabel('frekvencija [rad/uzorku]')\n",
        "ylabel('faza [rad]');"
      ],
      "execution_count": 5,
      "outputs": [
        {
          "output_type": "display_data",
          "data": {
            "image/png": "[encoded data removed]",
            "text/plain": [
              "<Figure size 432x288 with 1 Axes>"
            ]
          },
          "metadata": {
            "needs_background": "light"
          }
        },
        {
          "output_type": "display_data",
          "data": {
            "image/png": "[encoded data removed]",
            "text/plain": [
              "<Figure size 432x288 with 1 Axes>"
            ]
          },
          "metadata": {
            "needs_background": "light"
          }
        }
      ]
    },
    {
      "cell_type": "code",
      "metadata": {
        "colab": {
          "base_uri": "https://localhost:8080/",
          "height": 541
        },
        "id": "nXJ1K7PTxX-5",
        "outputId": "da1133c8-e0be-4112-b84b-f3c6056b68a2"
      },
      "source": [
        "# Izračunaj amplitudnu karakterisitku u dB i faznu karakteristiku u stupnjevima\n",
        "w2, mag2, phase2 = dbode(sys2)\n",
        "\n",
        "# Nacrtaj amplitudnu karakteristiku\n",
        "figure(3)\n",
        "plot(w2, mag2)\n",
        "xlabel('frekvencija [rad/uzorku]')\n",
        "ylabel('amplituda [dB]')\n",
        "\n",
        "# Nacrtaj faznu karakterisitku\n",
        "figure(4)\n",
        "plot(w2, phase2)\n",
        "xlabel('frekvencija [rad/uzorku]')\n",
        "ylabel('faza [°]');"
      ],
      "execution_count": 6,
      "outputs": [
        {
          "output_type": "display_data",
          "data": {
            "image/png": "[encoded data removed]",
            "text/plain": [
              "<Figure size 432x288 with 1 Axes>"
            ]
          },
          "metadata": {
            "needs_background": "light"
          }
        },
        {
          "output_type": "display_data",
          "data": {
            "image/png": "[encoded data removed]",
            "text/plain": [
              "<Figure size 432x288 with 1 Axes>"
            ]
          },
          "metadata": {
            "needs_background": "light"
          }
        }
      ]
    },
    {
      "cell_type": "markdown",
      "metadata": {
        "id": "RU-jOCw5ts8J"
      },
      "source": [
        "### 1.2.5. Odziv na jedinični impuls i odziv na jediničnu stepenicu\n",
        "\n",
        "Impulsni odziv $h[n]$ jest odziv mirnog sustava na jedinični impuls $\\delta[n]$.\n",
        "\n",
        "Mirni sustav jest sustav u kojem su svi početni uvjeti jednaki nuli.\n",
        "\n",
        "Impulsni odziv i prijenosna funkcija su par po Z transformaciji, odnosno $\\mathcal{Z}\\bigl[h[n]\\bigr]=H(z)$.\n",
        "\n",
        "Ako je sustav stabilan onda je DTFT transformacija impulsnog odziva jednaka frekvencijskoj karakteristici tog sustava.\n",
        "\n",
        "Nacrtamo li impulsni odziv onda temeljem te slike također možemo ispitati stabilnost sustava.\n",
        "\n",
        "Ako $h[n]\\to0$ za $n\\to\\infty$ onda kažemo da je sustav **stabilan**.\n",
        "\n",
        "Ako $h[n]\\to\\pm\\infty$ za $n\\to\\infty$ onda kažemo da je sustav **nestabilan**.\n",
        "\n",
        "U posebnom slučaju kada je $h[n]$ ograničen a nije jednak nuli kada $n\\to\\infty$, odnosno $h[n]$ ili teži k nekoj konstanti $K\\in\\mathbb{R}\\setminus\\{0\\}$ ili je periodičan, možemo kazati da je sustav **granično stabilan**.\n",
        "\n",
        "Odziv na jediničnu stepenicu $s[n]$ definiramo kao odziv mirnog sustava na pobudu $\\mu[n]$. Odziv na jediničnu stepenicu je od posebne važnosti u automatskom upravljanju jer pruža uvid u prijelazni odziv sustava.\n",
        "\n",
        "Za računanje impulsnog odziva i odziva na stepenicu koristimo [`scipy.signal.dimpulse`](https://docs.scipy.org/doc/scipy/reference/generated/scipy.signal.dimpulse.html) i [`scipy.signal.dstep`](https://docs.scipy.org/doc/scipy/reference/generated/scipy.signal.dstep.html)."
      ]
    },
    {
      "cell_type": "code",
      "metadata": {
        "colab": {
          "base_uri": "https://localhost:8080/",
          "height": 337
        },
        "id": "SF46VMTwwazB",
        "outputId": "0309a192-9bb3-48dd-fe55-dd4d1c430905"
      },
      "source": [
        "# Odredi impulsni odziv\n",
        "n, h2 = dimpulse(sys2)\n",
        "\n",
        "# Nacrtaj impulsni odziv\n",
        "figure(1)\n",
        "stem(n, squeeze(h2))\n",
        "xlabel(\"korak vremena/indeks uzorka\")\n",
        "ylabel(\"amplituda\");"
      ],
      "execution_count": 7,
      "outputs": [
        {
          "output_type": "stream",
          "name": "stderr",
          "text": [
            "/usr/local/lib/python3.7/dist-packages/ipykernel_launcher.py:6: UserWarning: In Matplotlib 3.3 individual lines on a stem plot will be added as a LineCollection instead of individual lines. This significantly improves the performance of a stem plot. To remove this warning and switch to the new behaviour, set the \"use_line_collection\" keyword argument to True.\n",
            "  \n"
          ]
        },
        {
          "output_type": "display_data",
          "data": {
            "image/png": "[encoded data removed]",
            "text/plain": [
              "<Figure size 432x288 with 1 Axes>"
            ]
          },
          "metadata": {
            "needs_background": "light"
          }
        }
      ]
    },
    {
      "cell_type": "code",
      "metadata": {
        "colab": {
          "base_uri": "https://localhost:8080/",
          "height": 341
        },
        "id": "aSQc0L5-xe-n",
        "outputId": "338929fe-460a-4b41-cb43-6ff2814b64a0"
      },
      "source": [
        "# Odredi odziv na stepenicu\n",
        "n, s2 = dstep(sys2)\n",
        "\n",
        "# Nacrtaj odziv na stepenicu\n",
        "figure(2)\n",
        "stem(n, squeeze(s2))\n",
        "xlabel(\"korak vremena/indeks uzorka\")\n",
        "ylabel(\"amplituda\");"
      ],
      "execution_count": 8,
      "outputs": [
        {
          "output_type": "stream",
          "name": "stderr",
          "text": [
            "/usr/local/lib/python3.7/dist-packages/ipykernel_launcher.py:6: UserWarning: In Matplotlib 3.3 individual lines on a stem plot will be added as a LineCollection instead of individual lines. This significantly improves the performance of a stem plot. To remove this warning and switch to the new behaviour, set the \"use_line_collection\" keyword argument to True.\n",
            "  \n"
          ]
        },
        {
          "output_type": "display_data",
          "data": {
            "image/png": "[encoded data removed]",
            "text/plain": [
              "<Figure size 432x288 with 1 Axes>"
            ]
          },
          "metadata": {
            "needs_background": "light"
          }
        }
      ]
    },
    {
      "cell_type": "markdown",
      "metadata": {
        "id": "Y6lNyO8lm1bW"
      },
      "source": [
        "## 1.A Vremenski diskretni LTI sustav prvog reda\n",
        "\n",
        "Vremenski diskretan LTI sustav prvog reda ima samo jedan pol. Uz taj pol može i ne mora imati jednu nulu. Ako je uz to sustav opisan diferencijskom jednadžbom s realnim koeficijentima onda su i nula i pol čisto realni.\n",
        "\n",
        "U prvom zadatku ove laboratorijske vježbe želimo ispitati sve moguće položaje tog jednog pola koji su od interesa. Prisjetite se da položaj pola obzirom na jediničnu kružnicu definira stabilnost sustava. Prema tome, zanima nas kako se sustav ponaša za pol unutar jedinične kružnice, za pol izvan jedinične kružnice, i za pol koji se nalazi točno na jediničnoj kružnici. Dodatno, kako je jedan pol ograničen na realnu os, isti može biti po predznaku ili pozitivan ili negativan. Navedene mogućnosti nam daju sveukupno šet mogućih položaja pola koji su od interesa.\n",
        "\n",
        "Neka promatrani vremenski diskretni LTI sustav ima točno jedan pol $p$ te neka je pripadna prijenosna funkcija\n",
        "\n",
        "$$H(z)={b_0\\over1-pz^{-1}},$$\n",
        "\n",
        "gdje je\n",
        "\n",
        "$$b_0=\\begin{cases}1-p,&p\\neq 1\\\\1,&p=1\\end{cases}$$\n",
        "\n",
        "Neka su $p_k\\in\\{2,1,{1\\over2},-{1\\over2},-1,-2\\}$ šest brojeva koji definiraju šest različitih položaja pola. Označimo s $H_k(z)$ prijenosnu funkciju koja odgovara polu $p_k$, odnosno $H_k(z)={b_k\\over1-p_kz^{-1}}$ gdje je $b_k=1-p_k$ za $p_k\\neq 1$ i $b_k=1$ inače; ovu oznaku koristite u vašim odgovorima kako bi jasno identificirali odgovarajući sustav.\n",
        "\n",
        "Za svaki od šet polova definirajte prijenosnu funkciju, nađite njene nule i polove, izračunajte frekvencijsku karakteristiku (i to bez obzira na stabilnost sustava), nacrtajte amplitudnu i faznu frekvencijsku karakteristiku, te nacrtajte impulsni odziv, i to sve na način kako je objašnjeno u uvodnom dijelu ove vježbe.\n",
        "\n",
        "Uputa: Prvo pripremite odsječak koda i/ili funkciju s kojim rješavate problem za neki određeni izbor pola, npr. za $p_1=2$. Zatim iskoristite taj kod šest puta u petlji kako bi rješili zadatak za sve zadane $p_k$. Po potrebi slobodno dodajte koliko god polja za upis koda vam treba."
      ]
    },
    {
      "cell_type": "code",
      "metadata": {
        "id": "LGlTdwK7dsgi"
      },
      "source": [
        "# Upišite vaše rješenje"
      ],
      "execution_count": 9,
      "outputs": []
    },
    {
      "cell_type": "markdown",
      "metadata": {
        "id": "RHHTqADzzWVy"
      },
      "source": [
        "Nakon što ste analizirali svih šest zadanih sustava odgovorite na sljedeća pitanja:\n",
        "\n",
        "Koji sustavi su stabilni, a koji su nestabilni? Objasnite zašto!\n",
        "\n",
        "**OVDJE UPIŠITE VAŠ ODGOVOR**\n",
        "\n",
        "Koji sustavi imaju istu amplitudno-frekvencijsku karakterisitku? Ako znate zašto su karakteristike identične onda uz odgovor dopišite i vaše objašnjenje!\n",
        "\n",
        "**OVDJE UPIŠITE VAŠ ODGOVOR**\n",
        "\n",
        "Što se dogodilo s frekvencijskim karekteristikama za $p_2=1$ i za $p_4=-1$?\n",
        "\n",
        "**OVDJE UPIŠITE VAŠ ODGOVOR**"
      ]
    },
    {
      "cell_type": "markdown",
      "metadata": {
        "id": "cU1wboop1wix"
      },
      "source": [
        "## 1.B Vremenski diskretni LTI sustav drugog reda\n",
        "\n",
        "Vremenski diskretni LTI sustav drugog reda ima dva pola. Uz ta dva pola može i ne mora imati dvije ne-trivijalne nule. Ako je uz to sustav opisan diferencijskom jednadžbom s realnim koeficijentima onda su njegove nule i polovi ili čisto realni ili dolaze u konjugirano-kompleksnim parovima.\n",
        "\n",
        "U drugom zadatku ove vježbe želimo ispitati dva zanimljiva položaja polova koji dolaze u konjugirano-kompleksnom paru.\n",
        "\n",
        "Neka promatrani vremenski diskretan LTI sustav ima konjugirano-kompleksni par polova $p$ i $p^*$, $p,p^*\\neq1$, i neka je pripadna prijenosna funkcija\n",
        "\n",
        "$$H(z)={(1-p)(1-p^*)\\over(1-pz^{-1})(1-p^*z^{-1})}$$\n",
        "\n",
        "Neka dvije vrijednosti pola od interesa budu $p_k\\in\\{{1\\over2}+{1\\over2}j,1-j\\}$. Neka $H_k(z)$ bude oznaka za prijenosnu funkciju i za sustav čiji polovi su $p_k$ i $p_k^*$; tu oznaku koristite u vašim odgovorima kako bi identificirali pojedini zadani sustav.\n",
        "\n",
        "Za svaki od zadana dva slučaja definirajte prijenosnu funkciju, nađite njene nule i polove, izračunajte frekvencijsku karakteristiku, nacrtajte amplitudnu i faznu frekvencijsku karakteristiku (bez obzira na stabilnost), te nacrtajte impulsni odziv, i to sve na način kako je objašnjeno u uvodnom dijelu ove vježbe."
      ]
    },
    {
      "cell_type": "code",
      "metadata": {
        "id": "skc5_UQk4dE8"
      },
      "source": [
        "# Upišite vaše rješenje"
      ],
      "execution_count": 10,
      "outputs": []
    },
    {
      "cell_type": "markdown",
      "metadata": {
        "id": "_qAcY7OM4fBP"
      },
      "source": [
        "Nakon što ste analizirali dva zadana sustava odgovorite na sljedeća pitanja:\n",
        "\n",
        "Koji sustavi su stabilni, a koji su nestabilni? Objasnite zašto!\n",
        "\n",
        "**OVDJE UPIŠITE VAŠ ODGOVOR**\n",
        "\n",
        "Je li amplitudno-frekvencijska karakteristika oba sustava jednaka? Ako znate zašto jest jednaka onda uz odgovor dopišite i vaše objašnjenje!\n",
        "\n",
        "**OVDJE UPIŠITE VAŠ ODGOVOR**"
      ]
    },
    {
      "cell_type": "markdown",
      "metadata": {
        "id": "38FSfgRFJkAX"
      },
      "source": [
        "# 2. Vremenski kontinuirani, linearni i vremenski nepromjenjivi sustavi (neobavezno)\n",
        "\n",
        "**Ovaj dio vježbe nije obavezan; riješite ga ako želite znati više.**\n",
        "\n",
        "Drugi dio ove bilježnice istražuje kako korištenjem računala analiziramo vremenski kontinuirani, linearan i vremenski nepromjenjiv sustav, ili kraće vremenski kontinuirani LTI sustav. Naše razmatranje u ovoj vježbi dodatno ograničavamo isključivo na kauzalne LTI sustave koji su opisani diferencijalnom jednadžbom sa stalnim koeficijentima,\n",
        "\n",
        "$$a_Ny^{(N)}(t)+a_{N-1}y^{(N-1)}(t)+\\cdots+a_{1}y^{(1)}(t)+a_0y(t)=b_Mx^{(M)}(t)+b_{M-1}x^{(M-1)}(t)+\\cdots+b_{1}x^{(1)}(t)+b_0x(t),$$\n",
        "\n",
        "gdje je $x(t)$ ulazni signal, gdje je $y(t)$ izlazni signal, i gdje su $a_i$, $i=0,\\ldots,N$, i $b_j$, $j=0,1,\\ldots,M\\le N$, stalni koeficijenti.\n",
        "\n",
        "Za vremenski kontinuirane sustave uvodimo dodatno ograničenje $M\\le N$ koje je nužno da bi sustav bio realizibilan. Primijetite da takvo ograničenje nije postojalo za vremenski diskretne LTI sustave opisane diferencijskim jednadžbama sa stalnim koeficijentima.\n",
        "\n",
        "Tako zadanu jednadžbu diferencija uobičajeno rješavamo korištenjem jednostrane [Laplaceove transformacije](https://en.wikipedia.org/wiki/Laplace_transform).\n",
        "\n",
        "Jednostrana Laplaceova transformacija nekog signala $x(t)$ je definirana kao\n",
        "\n",
        "$$\\mathcal{L}\\bigl[x(t)\\bigr]=\\int_{0^-}^{+\\infty}x(t)e^{-st}\\,dt=X(s),$$\n",
        "\n",
        "no samo za one vrijednosti kompleksne varijable $s$ za koju integral konvergira.\n",
        "\n",
        "Primjena jednostrane Laplaceove transformacije na diferencijalnu jednadžbu sa stalnim koeficijentima daje\n",
        "\n",
        "\\begin{align}\n",
        "a_0Y(s)+a_1sY(s)+{}&a_2s^{2}Y(s)+\\cdots+a_Ns^{N}Y(s)\\\\\n",
        "{}-y^{(0)}(0^-)&\\bigl(a_1+a_2s+a_3s^{2}+\\cdots+a_Ns^{N-1}\\bigr)\\\\\n",
        "{}-y^{(1)}(0^-)&\\bigl(a_2+a_3s+\\cdots+a_Ns^{N-2}\\bigr)\\\\\n",
        "&\\vdots\\\\\n",
        "{}-y^{(N-2)}(0^-)&\\bigl(a_{-N+1}+a_{N}s)\\\\\n",
        "{}-y^{(N-1)}(0^-)&a_{N}\\\\\n",
        "=\\\\\n",
        "b_0X(s)+b_1sX(s)+{}&b_2s^{2}X(s)+\\cdots+b_Ms^{M}X(s)\\\\\n",
        "{}-x^{(0)}(0^-)&\\bigl(b_1+b_2s+b_3s^{2}+\\cdots+b_Ms^{M-1}\\bigr)\\\\\n",
        "{}-x^{(1)}(0^-)&\\bigl(b_2+b_3s+\\cdots+b_Ms^{M-2}\\bigr)\\\\\n",
        "&\\vdots\\\\\n",
        "{}-x^{(M-2)}(0^-)&\\bigl(b_{-M+1}+b_{M}s)\\\\\n",
        "{}-x^{(M-1)}(0^-)&b_{M},\n",
        "\\end{align}\n",
        "\n",
        "što možemo kompaktnije zapisati kao\n",
        "\n",
        "$$Y(s)\\sum_{i=0}^{N}a_is^{i}+\\sum_{i=1}^{N}y^{(i-1)}(0^-)\\sum_{k=i}^{N}a_ks^{k-i}=X(s)\\sum_{j=0}^{M}b_js^{j}+\\sum_{j=1}^{M}x^{(j-1)}(0^-)\\sum_{k=j}^{M}b_ks^{k-j}.$$\n",
        "\n",
        "Napomena: Članovi $y^{(i-1)}(0^-)$ i $x^{(j-1)}(0^-)$ su rezultat korištenja jednostrane Laplaceove transformacije u kojoj integral ide od $t=0^-$ i činjenice da u jednadžbi koristimo derivacije izlaza $y(t)$ i ulaza $x(t)$.\n",
        "\n",
        "Zanemarivanjem početnih uvjeta $y^{(i-1)}(0^-)$ i $x^{(j-1)}(0^-)$ kroz postavljanje istih u nulu dobivamo\n",
        "\n",
        "$$Y(s)\\sum_{i=0}^{N}a_is^{i}=X(s)\\sum_{j=0}^{M}b_js^{j},$$\n",
        "\n",
        "što je jednostavan algebarski izraz koji povezuje Laplaceove transformacije ulaza $x(t)$ i izlaza $y(t)$.\n",
        "\n",
        "Napomena: Zanemarivanje početnih uvjeta $y^{(i-1)}(0^-)$ i $x^{(j-1)}(0^-)$ kroz postavljanje istih u nulu je opravdano jer se može pokazati da početni uvjeti definiraju isključivo homogeni dio rješenja koji ne ovisi o ulazu $x(t)$ osim u točci $t=0^-$, pa prema tome $Y(s)$ u ovoj pojednostavljenoj jednadžbi predstavlja jednostranu Laplaceovu transformaciju nekog partikularnog rješenja.\n",
        "\n",
        "Prijenosnu funkciju vremenski kontinuiranog LTI sustava zato definiramo kao\n",
        "\n",
        "$$H(s)={Y(s)\\over X(s)}={\\strut\\displaystyle\\sum_{j=0}^{M}b_js^{j}\\over\\strut\\displaystyle\\sum_{i=0}^{N}a_is^{i}}.$$\n",
        "\n",
        "Posljednji koeficijent $a_N$ se često normalizira u $1$ čime dobivamo normaliziranu prijenosnu funkciju\n",
        "\n",
        "$$H(s)={B(s)\\over A(s)}={\\strut\\displaystyle\\sum_{j=0}^{M}b_js^{j}\\over\\strut\\displaystyle\\sum_{i=0}^{N-1}a_is^{i}+s^N}={b_{M}s^{M}+b_{M-1}s^{M-1}+\\cdots+b_2s^{2}+b_1s+b_0\\over s^N+a_{N-1}s^{N-1}+\\cdots+a_2s^{2}+a_1s+a_0}.$$\n",
        "\n",
        "Korijene $p_k$ polinoma $A(s)=\\sum_{i=0}^{N}a_is^{i}=a_N\\prod_{k=0}^{N}(s-p_k)$ u **nazivniku** nazivamo **polovima**.\n",
        "\n",
        "Korijene $z_k$ polinoma $B(s)=\\sum_{j=0}^{M}b_js^{j}=b_M\\prod_{k=0}^{M}(s-z_k)$ u **brojniku** nazivamo **nulama**.\n",
        "\n",
        "**Red sustava** jest $N$.\n",
        "\n",
        "Prijenosna funkcija $H(s)$ se često iskazuje kao produkt svojih korjenih faktora što daje reprezentaciju izraženu preko nula, polova i pojačanja, odnosno\n",
        "\n",
        "$$H(s)={B(s)\\over A(s)}=K{\\strut\\displaystyle\\prod_{k=1}^{M}(s-z_k)\\over\\strut\\displaystyle\\prod_{k=1}^{N}(s-p_k)},$$\n",
        "\n",
        "gdje je $K=b_M/a_N$ pojačanje, a $z_k$ i $p_k$ su nule i polovi.\n",
        "\n",
        "Kažemo da je vremenski kontinuirani LTI sustav **stabilan** ako je realni dio **svih** njegovih polova negativan, odnosno ako su $p_k=\\sigma_k+j\\omega_k$, $p_k\\in\\mathbb{C}$ uz $\\sigma_k,\\omega_k\\in\\mathbb{R}$, polovi i rješenja jednadžbe $0=A(s)=\\sum_{i=0}^{N}a_is^{i}$ onda je sustav stabilan ako je $\\sigma_k<0$ za sve $k$."
      ]
    },
    {
      "cell_type": "markdown",
      "metadata": {
        "id": "IiFYknLFEBy7"
      },
      "source": [
        "## 2.1. Definiranje vremenski kontinuiranog LTI sustava\n",
        "\n",
        "Neka je vremenski kontinuiran LTI sustav zadan svojom prijenosnom funkcijom\n",
        "\n",
        "$$H(s)={B(s)\\over A(s)}={b_{M}s^{M}+b_{M-1}s^{M-1}+\\cdots+b_2s^{2}+b_1s+b_0\\over a_Ns^N+a_{N-1}s^{N-1}+\\cdots+a_2s^{2}+a_1s+a_0}.$$\n",
        "\n",
        "Za definiranje takvog sustava koristimo funkciju [`scipy.signal.TransferFunction`](https://docs.scipy.org/doc/scipy/reference/generated/scipy.signal.TransferFunction.html). Ta funkcija se koristi i za definiranje vremenski kontinuiranih sustava i za definiranje vremenski diskretnih sustava. Želimo li deinirati vremenski kontinuirani sustav dovoljno je zadati sve koeficijente brojnika i nazivnika, dakle ne smijemo zadavati vrijeme očitavanja `dt`.\n",
        "\n",
        "Pokažimo definiranje LTI sustava za prijenosne funkciju\n",
        "\n",
        "$$H(s)={1\\over s^2+2s+3}.$$"
      ]
    },
    {
      "cell_type": "code",
      "metadata": {
        "id": "gbbq7f_ZE3sL"
      },
      "source": [
        "# Spremamo prijenosnu funkciju H u varijablu sys\n",
        "num = [1]\n",
        "den = [1, 2, 3]\n",
        "sys = TransferFunction(num, den)"
      ],
      "execution_count": 11,
      "outputs": []
    },
    {
      "cell_type": "markdown",
      "metadata": {
        "id": "NGOauJeRFTBO"
      },
      "source": [
        "## 2.2. Analiza vremenski kontinuiranog LTI sustava\n",
        "\n",
        "Jednom kada smo definirali vremenski kontinuiran LTI sustav istog želimo analizirati. Za potpunu analizu uobičajeno:\n",
        "\n",
        "1.   računamo polove i nule te crtamo njihove položaje u kompleksnoj ravnini,\n",
        "2.   ispitujemo stabilnost sustava,\n",
        "3.   iskazujemo prijenosnu funkciju preko nula, polova i pojačanja,\n",
        "4.   računamo frekvencijsku karakteristiku, i\n",
        "5.   određujemo odziv sustava na jedinični impuls i jediničnu stepenicu."
      ]
    },
    {
      "cell_type": "markdown",
      "metadata": {
        "id": "NbS5zzLyFp4q"
      },
      "source": [
        "### 2.2.1. Polovi i nule vremenski kontinuiranog sustava\n",
        "\n",
        "Polovi i nule su korijeni polinoma u brojniku i nazivniku. Možemo ih izračunati korištenjem funkcije `roots`, bilo Pythonove funkcije [`numpy.roots`](https://numpy.org/doc/stable/reference/generated/numpy.roots.html) ili Matlabove [`roots`](https://www.mathworks.com/help/matlab/ref/roots.html). U Matlabu možemo jednostavno nacrtati položaje svih polova i nula korištenjem naredbe [`pzmap`](https://www.mathworks.com/help/control/ref/pzmap.html), no takva naredba nažalost ne postoji u NumPyju ili SciPyju. Zato moramo crtati položaj polova i nula korištenjem standardnih funkcija za crtanje.\n",
        "\n",
        "Napomena: Kod crtanja mjesta korjena (položaja polova i nula) dogovorno polove označavamo s `x`, a nule s `o`."
      ]
    },
    {
      "cell_type": "code",
      "metadata": {
        "colab": {
          "base_uri": "https://localhost:8080/",
          "height": 317
        },
        "id": "gtod7z6WFvKl",
        "outputId": "148ab10c-85b1-425a-9d57-b347749dc73d"
      },
      "source": [
        "# Izračunaj nule i polove\n",
        "zeros = roots(num)\n",
        "poles = roots(den)\n",
        "\n",
        "# Ispiši dobivene vrijednosti\n",
        "print(zeros)\n",
        "print(poles)\n",
        "\n",
        "# Nacrtaj mjesta korjena (nula i polova)\n",
        "plot(real(zeros), imag(zeros), 'ko')\n",
        "plot(real(poles), imag(poles), 'kx')\n",
        "\n",
        "# Nacrtaj imaginarnu os (granica područja stabilnosti)\n",
        "plot([0, 0], [-5, 5], 'b:')\n",
        "xlabel(\"realni dio\")\n",
        "ylabel(\"imaginarni dio\");"
      ],
      "execution_count": 12,
      "outputs": [
        {
          "output_type": "stream",
          "name": "stdout",
          "text": [
            "[]\n",
            "[-1.+1.41421356j -1.-1.41421356j]\n"
          ]
        },
        {
          "output_type": "display_data",
          "data": {
            "image/png": "[encoded data removed]",
            "text/plain": [
              "<Figure size 432x288 with 1 Axes>"
            ]
          },
          "metadata": {
            "needs_background": "light"
          }
        }
      ]
    },
    {
      "cell_type": "markdown",
      "metadata": {
        "id": "g0bRFoxCFuJV"
      },
      "source": [
        "### 2.2.2. Stabilnost vremenski kontinuiranog sustava\n",
        "\n",
        "Za ispitivanje stabilnosti vremenski kontinuiranog LTI sustava moramo odrediti gdje se nalaze njegovi polovi. Ako su svi polovi lijevo od imaginarne osi onda je sustav stabilan. U suprotnom, ako se barem jedan pol nalazi na ili desno od imaginarne osi onda je sustav nestabilan.\n",
        "\n",
        "U gornjem primjeru svi polovi su lijevo od imaginarne osi pa je prema tome sustav zadan varijablama `num2` i `den2` (odnosno varijablom `sys2`) stabilan.\n",
        "\n",
        "Primijetite razliku u kriteriju stabilnosti za vremenski diskretne i vremenski kontinuirane sustave: za vremenski diskretne sustave granica područja je jedinična kružnica, a za vremenski kontinuirane granica je imaginarna os. Tu razliku možemo objasniti drugačijim zapisom eksponencijalne funkcije. Diskretnu eksponencijalnu funkciju $\\exp_d:\\mathbb{Z}\\to\\mathbb{C}$ uobičajeno zapisujemo kao $\\exp_d(n)=z^n$, a kontinuiranu eksponencijalnu funkciju $\\exp_c:\\mathbb{R}\\to\\mathbb{C}$ kao $\\exp_c(t)=e^{st}$, pri čemu su $z$ i $s$ neki kompleksni brojevi. Uz očekivanu vezu između $n$ i $t$ danu s $t=nT_s$ (jednoliko očitavanje) dobivamo $z=e^{sT_s}$, što je preslikavanje koje preslikava vertikalne pravce u kompleksnoj ravnini $s$ u kružnice u kompleksnoj ravnini $z$.\n",
        "\n",
        "### 2.2.3. Reprezentacija preko nula, polova i pojačanja\n",
        "\n",
        "Reprezentaciju sustava preko nula, polova i pojačanja (engl. *zero-pole-gain*, još se koristi i kratica ZPK gdje K označava konstantu koja definira pojačanje) dobivamo korištenjem funkcije [`scipy.signal.tf2zpk`](https://docs.scipy.org/doc/scipy/reference/generated/scipy.signal.tf2zpk.html) ili metode [`to_zpk`](https://docs.scipy.org/doc/scipy/reference/generated/scipy.signal.TransferFunction.to_tf.html). Funkcija u Matlabu je jednaka, [`tf2zpk`](https://www.mathworks.com/help/signal/ref/tf2zpk.html)."
      ]
    },
    {
      "cell_type": "code",
      "metadata": {
        "colab": {
          "base_uri": "https://localhost:8080/"
        },
        "id": "mqIa9fLJG0DY",
        "outputId": "3bea09e2-58ca-4ca8-e348-99f89c3cb8b8"
      },
      "source": [
        "tf2zpk(num, den)"
      ],
      "execution_count": 13,
      "outputs": [
        {
          "output_type": "execute_result",
          "data": {
            "text/plain": [
              "(array([], dtype=float64), array([-1.+1.41421356j, -1.-1.41421356j]), 1.0)"
            ]
          },
          "metadata": {},
          "execution_count": 13
        }
      ]
    },
    {
      "cell_type": "markdown",
      "metadata": {
        "id": "QBMbJfS5G4gJ"
      },
      "source": [
        "Iz dobivenog ispisa vidimo da sustav nema nula (vraćen je prazni nis), da su dva pola $p_{1,2}=-1\\pm\\sqrt{2}j$, i da je pojačanje $K=1$.\n",
        "\n",
        "Sve te vrijednosti zajedno jednoznačno definiraju prijenosnu funkciju\n",
        "\n",
        "$$H(z)=1{1\\over(s+1+\\sqrt{2}j)(s+1-\\sqrt{2}j)}.$$"
      ]
    },
    {
      "cell_type": "markdown",
      "metadata": {
        "id": "dY9hh-1EHkMg"
      },
      "source": [
        "### 2.2.4. Frekvencijska karakteristika\n",
        "\n",
        "Frekvencijska karakteristika vremenski kontinuiranog LTI sustava određuje odziv sustava na sinusoidalnu pobudu. Preciznije, ako je pobuda sustava oblika\n",
        "\n",
        "$$x(t)=A_0\\cos(\\Omega_0n+\\varphi),$$\n",
        "\n",
        "onda je odziv\n",
        "\n",
        "$$y(t)=A(\\Omega_0)A_0\\cos\\bigl(\\Omega_0n+\\varphi+\\phi(\\Omega_0)\\bigr),$$\n",
        "\n",
        "gdje je $A(\\Omega_0)$ amplitudni dio frekvencijske karakteristike i gdje je $\\phi(\\Omega_0)$ fazni dio frekvencijske karakteristike.\n",
        "\n",
        "Frekvencijsku karakteristiku dobivamo iz prijenosne funkcije $H(z)$ zamjenom $s\\mapsto j\\Omega$. Ta zamjena je dobro definirana samo ako područje konvergencije ili RoC, od engl. *region of convergence*, prijenosne funkcije $H(s)$ sadrži imaginarnu os. Za stabilne kauzalne sustave imaginarna os je uvijek unutar područja konvergnecije pa zamjena $s\\mapsto j\\Omega$ u tom slučaju uvijek pretvara Laplaceovu transformaciju $H(s)$ u vremenski kontinuiranu Fourierovu transformaciju (CTFT) $H(j\\Omega)$.\n",
        " \n",
        "Kada znamo frekvencijsku karakterisitku $H(j\\Omega)$ istu razdvajamo na amplitudno-frekvencijsku karakteristiku\n",
        "\n",
        "$$A(\\Omega)=\\bigl|H(j\\Omega)\\bigr|$$\n",
        "\n",
        "i na fazno-frekvencijsku karakteristiku\n",
        "\n",
        "$$\\phi(\\Omega)=\\angle H(j\\Omega).$$\n",
        "\n",
        "Funkcije koje u SciPyju koristimo za računanje frekvencijske karakteristike su [`scipy.signal.freqresp`](https://docs.scipy.org/doc/scipy/reference/generated/scipy.signal.freqresp.html), [`scipy.signal.bode`](https://docs.scipy.org/doc/scipy/reference/generated/scipy.signal.bode.html), i [`scipy.signal.freqs`](https://docs.scipy.org/doc/scipy/reference/generated/scipy.signal.freqs.html). `freqresp` i `freqs` vraćaju dva niza brojeva od kojih prvi sadrži uzorke frekvencije $\\Omega_k$, a drugi vrijednosti frekvencijske karakteristike $H(j\\Omega_k)$. `bode` odmah razdvaja frekvencijsku karakterisitku i vraća tri niza, prvi je opet $\\Omega_k$, no druga dva su amplitudno-frekvencijska karakterisitka $A_{\\text{dB}}$ izražena u decibelima [dB] i fazno-frekvencijska karakterisitka $\\phi_{\\text{stp}}$ izražena u stupnjevima [°], odnosno\n",
        "\n",
        "$$A_{\\text{dB}}(\\Omega)=20\\log_{10}\\bigl|H(j\\Omega)\\bigr|$$\n",
        "\n",
        "i\n",
        "\n",
        "$$\\phi_{\\text{stp}}(\\Omega)={\\pi\\over180^\\circ}\\angle H(j\\Omega).$$\n",
        "\n",
        "U Matlabu uobičajeno koristimo funkciju [`freqs`](https://www.mathworks.com/help/signal/ref/freqs.html) ima dualno ponašanje, odnosno ako izlaz `freqs` ne pridružimo nekoj varijabli onda funkcija odmah crta amplitudnu i faznu frekvencijsku karakterisitku, a ako izlaz pridružujemo nekoj varijabli onda funkcija vraća vrijednosti od $H(j\\Omega_k)$ i pripadne frekvencije $\\Omega_k$. Matlabova funkcija `freqs` kao ulaz očekuje koeficijente polinoma u brojniku i nazivniku izražene u pozitivnim potencijama od $s$ kao što je uobičajeno u obradbi signala."
      ]
    },
    {
      "cell_type": "code",
      "metadata": {
        "colab": {
          "base_uri": "https://localhost:8080/",
          "height": 541
        },
        "id": "DN7LiwHSG2uV",
        "outputId": "ab463f58-40f4-4e0f-d8e8-93f4e2d14619"
      },
      "source": [
        "# Izračunaj frekvencijsku karakteristiku\n",
        "w, H = freqs(num, den)\n",
        "\n",
        "# Nacrtaj amplitudnu karakteristiku\n",
        "figure(1)\n",
        "plot(w, abs(H))\n",
        "xlabel('frekvencija [rad/s]')\n",
        "ylabel('amplituda')\n",
        "\n",
        "# Nacrtaj faznu karakteristiku\n",
        "figure(2)\n",
        "plot(w, angle(H))\n",
        "xlabel('frekvencija [rad/s]')\n",
        "ylabel('faza [rad]');"
      ],
      "execution_count": 14,
      "outputs": [
        {
          "output_type": "display_data",
          "data": {
            "image/png": "[encoded data removed]",
            "text/plain": [
              "<Figure size 432x288 with 1 Axes>"
            ]
          },
          "metadata": {
            "needs_background": "light"
          }
        },
        {
          "output_type": "display_data",
          "data": {
            "image/png": "[encoded data removed]",
            "text/plain": [
              "<Figure size 432x288 with 1 Axes>"
            ]
          },
          "metadata": {
            "needs_background": "light"
          }
        }
      ]
    },
    {
      "cell_type": "code",
      "metadata": {
        "colab": {
          "base_uri": "https://localhost:8080/",
          "height": 549
        },
        "id": "gL3vAuOiwqrN",
        "outputId": "b7f68c9a-015e-4b06-be3f-f520e060a446"
      },
      "source": [
        "# Izračunaj amplitudnu karakterisitku u dB i faznu karakteristiku u stupnjevima\n",
        "w, mag, phase = bode(sys)\n",
        "\n",
        "# Nacrtaj amplitudnu karakteristiku\n",
        "figure(3)\n",
        "semilogx(w, mag)\n",
        "xlabel('frekvencija [rad/s]')\n",
        "ylabel('amplituda [dB]')\n",
        "\n",
        "# Nacrtaj faznu karakterisitku\n",
        "figure(4)\n",
        "semilogx(w, phase)\n",
        "xlabel('frekvencija [rad/s]')\n",
        "ylabel('faza [°]');"
      ],
      "execution_count": 15,
      "outputs": [
        {
          "output_type": "display_data",
          "data": {
            "image/png": "[encoded data removed]",
            "text/plain": [
              "<Figure size 432x288 with 1 Axes>"
            ]
          },
          "metadata": {
            "needs_background": "light"
          }
        },
        {
          "output_type": "display_data",
          "data": {
            "image/png": "[encoded data removed]",
            "text/plain": [
              "<Figure size 432x288 with 1 Axes>"
            ]
          },
          "metadata": {
            "needs_background": "light"
          }
        }
      ]
    },
    {
      "cell_type": "markdown",
      "metadata": {
        "id": "Kf2tJ3d1JaOL"
      },
      "source": [
        "### 2.2.5. Odziv na jedinični impuls i odziv na jediničnu stepenicu\n",
        "\n",
        "Impulsni odziv $h(t)$ jest odziv mirnog sustava na jedinični impuls $\\delta(t)$. Vremenski kontinuirani jedinični impuls još zovemo i [Diracovom delta distribucijom](https://en.wikipedia.org/wiki/Dirac_delta_function).\n",
        "\n",
        "Mirni sustav jest sustav u kojem su svi početni uvjeti jednaki nuli.\n",
        "\n",
        "Impulsni odziv i prijenosna funkcija su par po Laplaceovoj transformaciji, odnosno  $\\mathcal{L}\\bigl[h(t)\\bigr]=H(s)$.\n",
        "\n",
        "Ako je sustav stabilan onda je CTFT transformacija impulsnog odziva jednaka frekvencijskoj karakteristici tog sustava.\n",
        "\n",
        "Nacrtamo li impulsni odziv onda temeljem te slike također možemo ispitati stabilnost sustava.\n",
        "\n",
        "Ako $h(t)\\to0$ za $t\\to\\infty$ onda kažemo da je sustav **stabilan**.\n",
        "\n",
        "Ako $h(t)\\to\\pm\\infty$ za $n\\to\\infty$ onda kažemo da je sustav **nestabilan**.\n",
        "\n",
        "U posebnom slučaju kada je $h(t)$ ograničen a nije jednak nuli kada $t\\to\\infty$, odnosno $h(t)$ ili teži k nekoj konstanti $K\\in\\mathbb{R}\\setminus\\{0\\}$ ili je periodičan, možemo kazati da je sustav **granično stabilan**.\n",
        "\n",
        "Odziv na jediničnu stepenicu $s(t)$ definiramo kao odziv mirnog sustava na pobudu $\\mu(t)$. Vremenski kontinuiranu jediničnu stepenicu još zovemo i [Heavisideovom fukncijom](https://en.wikipedia.org/wiki/Heaviside_step_function). Odziv na jediničnu stepenicu je od posebne važnosti u automatskom upravljanju jer pruža uvid u prijelazni odziv sustava.\n",
        "\n",
        "Za računanje impulsnog odziva i odziva na stepenicu koristimo [`scipy.signal.impulse`](https://docs.scipy.org/doc/scipy/reference/generated/scipy.signal.impulse.html) i [`scipy.signal.step`](https://docs.scipy.org/doc/scipy/reference/generated/scipy.signal.step.html)."
      ]
    },
    {
      "cell_type": "code",
      "metadata": {
        "colab": {
          "base_uri": "https://localhost:8080/",
          "height": 279
        },
        "id": "qOPEsRXVJE_i",
        "outputId": "9f3afc8e-a7c2-4672-e396-9b388e88ecf3"
      },
      "source": [
        "# Odredi impulsni odziv\n",
        "t, h = impulse(sys)\n",
        "\n",
        "# Nacrtaj impulsni odziv\n",
        "figure(1)\n",
        "plot(t, squeeze(h))\n",
        "xlabel(\"vrijeme [s]\")\n",
        "ylabel(\"amplituda\");"
      ],
      "execution_count": 16,
      "outputs": [
        {
          "output_type": "display_data",
          "data": {
            "image/png": "[encoded data removed]",
            "text/plain": [
              "<Figure size 432x288 with 1 Axes>"
            ]
          },
          "metadata": {
            "needs_background": "light"
          }
        }
      ]
    },
    {
      "cell_type": "code",
      "metadata": {
        "colab": {
          "base_uri": "https://localhost:8080/",
          "height": 279
        },
        "id": "h5OBkM78wxYo",
        "outputId": "d76699b0-5463-4e97-93c5-25c054e030fe"
      },
      "source": [
        "# Odredi odziv na jediničnu stepenicu\n",
        "t, s = step(sys)\n",
        "\n",
        "# Nacrtaj odziv na jediničnu stepenicu\n",
        "figure(2)\n",
        "plot(t, squeeze(s))\n",
        "xlabel(\"vrijeme [s]\")\n",
        "ylabel(\"amplituda\");"
      ],
      "execution_count": 17,
      "outputs": [
        {
          "output_type": "display_data",
          "data": {
            "image/png": "[encoded data removed]",
            "text/plain": [
              "<Figure size 432x288 with 1 Axes>"
            ]
          },
          "metadata": {
            "needs_background": "light"
          }
        }
      ]
    },
    {
      "cell_type": "markdown",
      "metadata": {
        "id": "dfEOUtbIPSIZ"
      },
      "source": [
        "## 2.A Vremenski kontinuirani LTI sustav prvog reda\n",
        "\n",
        "Vremenski kontinuiran LTI sustav prvog reda ima samo jedan pol. Uz taj pol može i ne mora imati jednu nulu. Ako je uz to sustav opisan diferencijalnom jednadžbom s realnim koeficijentima onda su i nula i pol čisto realni.\n",
        "\n",
        "U trećem zadatku ove laboratorijske vježbe želimo ispitati sve moguće položaje tog jednog pola koji su od interesa. Prisjetite se da položaj pola obzirom na imaginarnu os definira stabilnost sustava. Prema tome, zanima nas kako se sustav ponaša za pol lijevo od imaginarne osi, za pol desno od imaginarne osi, i za pol koji se nalazi točno na imaginarnoj osi. Kako je jedan pol ograničen na realnu os sveukupno imamo tri moguća položaja pola koji su od interesa.\n",
        "\n",
        "Neka promatrani vremenski kontinuirani LTI sustav ima točno jedan pol $p$ te neka je pripadna prijenosna funkcija\n",
        "\n",
        "$$H(s)={1\\over s-p}$$\n",
        "\n",
        "Neka su $p_k\\in\\{-1,0,1\\}$ tri broja koja definiraju tri različita položaja pola. Označimo s $H_k(s)$ prijenosnu funkciju koja odgovara polu $p_k$, odnosno $H_k(s)={1\\over s-p_k}$; ovu oznaku koristite u vašim odgovorima kako bi jasno identificirali odgovarajući sustav.\n",
        "\n",
        "Za svaki od tri pola definirajte prijenosnu funkciju, nađite njene nule i polove, izračunajte frekvencijsku karakteristiku (i to bez obzira na stabilnost sustava), nacrtajte amplitudnu i faznu frekvencijsku karakteristiku, te nacrtajte impulsni odziv, i to sve na način kako je objašnjeno u uvodnom dijelu ove vježbe."
      ]
    },
    {
      "cell_type": "code",
      "metadata": {
        "id": "Ad0iY-gVKqMT"
      },
      "source": [
        "# Upišite vaše rješenje"
      ],
      "execution_count": 18,
      "outputs": []
    },
    {
      "cell_type": "markdown",
      "metadata": {
        "id": "dcK5px4nQ4UV"
      },
      "source": [
        "Nakon što ste analizirali svih šest zadanih sustava odgovorite na sljedeća pitanja:\n",
        "\n",
        "Koji sustavi su stabilni, a koji su nestabilni? Objasnite zašto!\n",
        "\n",
        "**OVDJE UPIŠITE VAŠ ODGOVOR**\n",
        "\n",
        "Koji sustavi imaju istu amplitudno-frekvencijsku karakterisitku? Ako znate zašto su karakteristike identične onda uz odgovor dopišite i vaše objašnjenje!\n",
        "\n",
        "**OVDJE UPIŠITE VAŠ ODGOVOR**\n",
        "\n",
        "Što se događa s frekvencijskom karakteristikom u $\\Omega=0$ za $p_2=0$?\n",
        "\n",
        "**OVDJE UPIŠITE VAŠ ODGOVOR**"
      ]
    },
    {
      "cell_type": "markdown",
      "metadata": {
        "id": "wRELhBJ7RevS"
      },
      "source": [
        "## 2.B Vremenski kontinuirani LTI sustav drugog reda\n",
        "\n",
        "Vremenski kontinuirani LTI sustav drugog reda ima dva pola. Uz ta dva pola može i ne mora imati dvije ne-trivijalne nule. Ako je uz to sustav opisan diferencijalnom jednadžbom s realnim koeficijentima onda su njegove nule i polovi ili čisto realni ili dolaze u konjugirano-kompleksnim parovima.\n",
        "\n",
        "U četvrtom zadatku ove vježbe želimo ispitati nekoliko zanimljivih položaja za dva pola.\n",
        "\n",
        "Neka je promatrani vremenski kontinuirani LTI sustav drugog reda opisan prijenosnom funkcijom\n",
        "\n",
        "$$H(s)={1\\over s^2+2\\zeta\\Omega_0s+\\Omega_0^2},$$\n",
        "\n",
        "za koju je pripadna diferencijalna jednadžba\n",
        "\n",
        "$$y''(t)+2\\zeta\\Omega_0y'(t)+\\Omega_0^2y(t)=x(t).$$\n",
        "\n",
        "Ovje je $\\zeta$ faktor prigušenja sustava, a $\\Omega_0$ je prirodna frekvencija sustava. Ovisno o vrijednostima koje poprima faktor prigušenja $\\zeta$ razlikujemo četiri slučaja od interesa:\n",
        "\n",
        "1.   Za $\\zeta=0$ sustav je **neprigušen** i ima dva čisto imaginarna pola, odnosno sustav se ponaša kao oscilator.\n",
        "2.   Za $0<\\zeta<1$ sustav je **nedovoljno ili podkritično prigušen** i ima dva pola koja imaju i realni i imaginarni dio; prirodni odziv takvog sustava iskazuje prigušene oscilacije. \n",
        "3.   Za $\\zeta=1$ sustav je **kritično prigušen** i ima dvostruki realni pol; u odzivu sustava više nema oscilacija.\n",
        "4.   Za $1<\\zeta$ sustav je **pretjerano ili nadkritično prigušen** i ima dva čisto realna pola.\n",
        "\n",
        "Neka je $\\Omega_0=4$ prirodna frekvencija sustava i neka su vrijednosti faktora prigušenja $\\zeta$ iz skupa $\\{0,0.1,0.4,1,4\\}$, imamo dakle četiri vrijednosti faktora prigušenja koje definiraju četiri sustava od interesa.\n",
        "\n",
        "Za svaki od zadana četiri sustava definirajte prijenosnu funkciju, nađite njene nule i polove, izračunajte frekvencijsku karakteristiku, nacrtajte amplitudnu i faznu frekvencijsku karakteristiku (bez obzira na stabilnost), te nacrtajte odziv na jediničnu stepenicu, i to sve na način kako je objašnjeno u uvodnom dijelu ove vježbe."
      ]
    },
    {
      "cell_type": "code",
      "metadata": {
        "id": "ik3_AAcNU7nM"
      },
      "source": [
        "# Upišite vaše rješenje"
      ],
      "execution_count": 19,
      "outputs": []
    },
    {
      "cell_type": "markdown",
      "metadata": {
        "id": "TaDyZ2UNU6p-"
      },
      "source": [
        "Nakon što ste analizirali sve zadane sustave odgovorite na sljedeća pitanja:\n",
        "\n",
        "Koji odzivi na stepenicu iskazuju oscijacije? Postoji li veza između amplitudno-frekvencijske karakteristike i jakosti oscilacija u odzivu?\n",
        "\n",
        "**OVDJE UPIŠITE VAŠ ODGOVOR**"
      ]
    },
    {
      "cell_type": "markdown",
      "metadata": {
        "id": "3SXBxmkMWfgO"
      },
      "source": [
        "Za sustave koji iskazuju oscilatoran odziv od posebnog interesa jest fenomen rezonancije.\n",
        "\n",
        "Razmotrimo ponovo vremenski kontinuirani LTI sustav drugog reda koji je opisan prijenosnom funkcijom\n",
        "\n",
        "$$H(s)={1\\over s^2+2\\zeta\\Omega_0s+\\Omega_0^2},$$\n",
        "\n",
        "za koju je pripadna diferencijalna jednadžba\n",
        "\n",
        "$$y''(t)+2\\zeta\\Omega_0y'(t)+\\Omega_0^2y(t)=x(t).$$\n",
        "\n",
        "Neka je $\\zeta=0$ i neka je $\\Omega_0=0.4$.\n",
        "\n",
        "Korištenjem funkcije [`scipy.signal.lsim`](https://docs.scipy.org/doc/scipy/reference/generated/scipy.signal.lsim.html) izračunajte i nacrtajte odziv sustava za dva pobudna signala,\n",
        "\n",
        "$$x_a(t)=\\sin(\\Omega_a t),\\quad\\Omega_a=0.04,$$\n",
        "\n",
        "i\n",
        "\n",
        "$$x_b(t)=\\sin(\\Omega_b t),\\quad\\Omega_b=0.4.$$"
      ]
    },
    {
      "cell_type": "code",
      "metadata": {
        "id": "ydRXv437Wf46"
      },
      "source": [
        "# Upišite vaše rješenje"
      ],
      "execution_count": 20,
      "outputs": []
    },
    {
      "cell_type": "markdown",
      "metadata": {
        "id": "uUsD0NctXns_"
      },
      "source": [
        "Kada odredite oba odziva odgovorite na sljedeća pitanja:\n",
        "\n",
        "Koja je značajna razlika između odziva na pobudu $x_a(t)$ i napobudu $x_b(t)$?\n",
        "\n",
        "**OVDJE UPIŠITE VAŠ ODGOVOR**\n",
        "\n",
        "Što se događa kada je prirodna frekvencija $\\Omega_0$ nekog LTI sustava jednaka frekvenciji pobudnog signala $\\Omega_a$?\n",
        "\n",
        "**OVDJE UPIŠITE VAŠ ODGOVOR**"
      ]
    }
  ]
}